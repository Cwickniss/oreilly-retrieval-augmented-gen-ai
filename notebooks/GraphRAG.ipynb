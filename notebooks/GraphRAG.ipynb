{
 "cells": [
  {
   "cell_type": "markdown",
   "metadata": {},
   "source": [
    "# Setup"
   ]
  },
  {
   "cell_type": "code",
   "execution_count": 4,
   "metadata": {},
   "outputs": [
    {
     "name": "stdout",
     "output_type": "stream",
     "text": [
      "env: NEO4J_AURA_URI=neo4j+s://1793cc2f.databases.neo4j.io:7687\n",
      "env: NEO4J_AURA_PW=Le7qRUf3r0hpU0LgTiIvJzuwBYdCWQ52S3ZqDO2HZWc\n"
     ]
    }
   ],
   "source": [
    "%env NEO4J_AURA_URI=neo4j+s://1793cc2f.databases.neo4j.io:7687\n",
    "%env NEO4J_AURA_PW=Le7qRUf3r0hpU0LgTiIvJzuwBYdCWQ52S3ZqDO2HZWc"
   ]
  },
  {
   "cell_type": "code",
   "execution_count": 5,
   "metadata": {
    "id": "LUB1R1Y5pUFu"
   },
   "outputs": [],
   "source": [
    "from neo4j import GraphDatabase, basic_auth\n",
    "from neo4j.auth_management import AuthManagers\n",
    "import os\n",
    "\n",
    "# Replace with your Neo4j Aura credentials\n",
    "uri = os.environ.get('NEO4J_AURA_URI')\n",
    "pw = os.environ.get('NEO4J_AURA_PW')"
   ]
  },
  {
   "cell_type": "code",
   "execution_count": 6,
   "metadata": {
    "id": "L72PdHoLvcye"
   },
   "outputs": [],
   "source": [
    "from openai import OpenAI\n",
    "client = OpenAI(api_key=os.environ.get('OPENAI_API_KEY'))"
   ]
  },
  {
   "cell_type": "markdown",
   "metadata": {},
   "source": [
    "# Helper Graph Class"
   ]
  },
  {
   "cell_type": "code",
   "execution_count": 7,
   "metadata": {
    "id": "3H4RwY-Tscd-"
   },
   "outputs": [],
   "source": [
    "from neo4j import GraphDatabase\n",
    "\n",
    "class Neo4jGraph:\n",
    "    def __init__(self, uri, pw):\n",
    "        \"\"\"\n",
    "        Initialize the Neo4jGraph with a connection to the Neo4j Aura database.\n",
    "        \"\"\"\n",
    "        auth = (\"neo4j\", pw)\n",
    "        self.driver = GraphDatabase.driver(uri, auth=AuthManagers.static(auth))\n",
    "\n",
    "    def close(self):\n",
    "        \"\"\"\n",
    "        Close the connection to the database.\n",
    "        \"\"\"\n",
    "        self.driver.close()\n",
    "\n",
    "    def generate_embedding(self, text):\n",
    "        \"\"\"\n",
    "        Generate an embedding for the given text using OpenAI API.\n",
    "\n",
    "        :param text: The text to generate the embedding for.\n",
    "        :return: A list of floats representing the embedding.\n",
    "        \"\"\"\n",
    "        return client.embeddings.create(\n",
    "            input=text,\n",
    "            model=\"text-embedding-3-small\"\n",
    "        ).data[0].embedding\n",
    "\n",
    "    def insert_triplet(self, triplet):\n",
    "        \"\"\"\n",
    "        Insert a triplet (head, relation, tail) with properties and embeddings.\n",
    "        Ensure that all nodes have the \"Entity\" label. If nodes already exist (based on 'name'), they will not be recreated.\n",
    "\n",
    "        :param triplet: A dictionary containing:\n",
    "                        - 'head': name of the head node\n",
    "                        - 'type': type of the relationship\n",
    "                        - 'tail': name of the tail node\n",
    "                        - 'head_label' (optional): label for the head node\n",
    "                        - 'tail_label' (optional): label for the tail node\n",
    "                        - 'head_properties' (optional): properties for the head node\n",
    "                        - 'tail_properties' (optional): properties for the tail node\n",
    "                        - 'relation_properties' (optional): properties for the relationship\n",
    "        \"\"\"\n",
    "        head_name = triplet['head']\n",
    "        tail_name = triplet['tail']\n",
    "        relation_type = triplet['type']\n",
    "\n",
    "        # Ensure that the Entity label is added to all nodes\n",
    "        head_label = 'Entity' + (':' + triplet.get('head_label', '') if triplet.get('head_label') else '')\n",
    "        tail_label = 'Entity' + (':' + triplet.get('tail_label', '') if triplet.get('tail_label') else '')\n",
    "\n",
    "        head_properties = triplet.get('head_properties', {})\n",
    "        tail_properties = triplet.get('tail_properties', {})\n",
    "        relation_properties = triplet.get('relation_properties', {})\n",
    "        relation_properties['type'] = relation_type  # Store the relation type as a property\n",
    "\n",
    "        # Ensure 'name' is included in properties\n",
    "        head_properties['name'] = head_name\n",
    "        tail_properties['name'] = tail_name\n",
    "\n",
    "        # Generate embeddings for head and tail\n",
    "        head_embedding = self.generate_embedding(head_name)\n",
    "        tail_embedding = self.generate_embedding(tail_name)\n",
    "\n",
    "        # Add the embedding as a property\n",
    "        head_properties['embedding'] = head_embedding\n",
    "        tail_properties['embedding'] = tail_embedding\n",
    "\n",
    "        query = \"\"\"\n",
    "        MERGE (h:{head_label} {{name: $head_name}})\n",
    "        SET h += $head_properties\n",
    "        MERGE (t:{tail_label} {{name: $tail_name}})\n",
    "        SET t += $tail_properties\n",
    "        MERGE (h)-[r:RELATION]->(t)\n",
    "        SET r += $relation_properties\n",
    "        RETURN h, r, t\n",
    "        \"\"\".format(head_label=head_label, tail_label=tail_label)\n",
    "\n",
    "        with self.driver.session() as session:\n",
    "            session.run(\n",
    "                query,\n",
    "                head_name=head_name,\n",
    "                tail_name=tail_name,\n",
    "                head_properties=head_properties,\n",
    "                tail_properties=tail_properties,\n",
    "                relation_properties=relation_properties\n",
    "            )\n",
    "        print(f\"Inserted triplet with embeddings for {head_name} and {tail_name}, both labeled as 'Entity'.\")\n",
    "\n",
    "\n",
    "    def delete_entity(self, name):\n",
    "        query = \"\"\"\n",
    "        MATCH (n {name: $name})\n",
    "        DETACH DELETE n\n",
    "        \"\"\"\n",
    "        with self.driver.session() as session:\n",
    "            session.run(query, name=name)\n",
    "\n",
    "\n",
    "    def delete_relation(self, head_name, tail_name, relation_type):\n",
    "        \"\"\"\n",
    "        Delete a relationship between two nodes based on 'name' and relationship type.\n",
    "\n",
    "        :param head_name: The 'name' property of the head/start node\n",
    "        :param tail_name: The 'name' property of the tail/end node\n",
    "        :param relation_type: The 'type' property of the relationship to delete\n",
    "        \"\"\"\n",
    "        query = \"\"\"\n",
    "        MATCH (h {{name: $head_name}})-[r:RELATION {{type: $relation_type}}]->(t {{name: $tail_name}})\n",
    "        DELETE r\n",
    "        \"\"\"\n",
    "\n",
    "        with self.driver.session() as session:\n",
    "            session.run(\n",
    "                query,\n",
    "                head_name=head_name,\n",
    "                tail_name=tail_name,\n",
    "                relation_type=relation_type\n",
    "            )\n",
    "\n",
    "    def get_entity_with_relations(self, name, related_names=None, relation_types=None, verbose=False):\n",
    "        \"\"\"\n",
    "        Get an entity and its relationships, optionally filtering by related node names and relationship types.\n",
    "\n",
    "        :param name: The 'name' property of the node to retrieve\n",
    "        :param related_names: A list of 'name' properties of related nodes to filter by\n",
    "        :param relation_types: A list of relationship 'type' properties to filter by\n",
    "        :return: A list of dictionaries representing the relationships\n",
    "        \"\"\"\n",
    "        # Start building the query\n",
    "        query = \"\"\"\n",
    "        MATCH (n {name: $name})-[r]->(related)\n",
    "        \"\"\"\n",
    "        # Add conditions based on optional parameters\n",
    "        conditions = []\n",
    "        if related_names:\n",
    "            conditions.append(\"related.name IN $related_names\")\n",
    "        if relation_types:\n",
    "            conditions.append(\"r.type IN $relation_types\")\n",
    "        if conditions:\n",
    "            query += \"WHERE \" + \" AND \".join(conditions) + \"\\n\"\n",
    "        query += \"RETURN n, r, related\"\n",
    "\n",
    "        query += \"\"\"\\n\n",
    "        UNION\n",
    "        MATCH (n)-[r]->(related {name: $name})\n",
    "        \"\"\"\n",
    "        # Add conditions based on optional parameters\n",
    "        conditions = []\n",
    "        if related_names:\n",
    "            conditions.append(\"related.name IN $related_names\")\n",
    "        if relation_types:\n",
    "            conditions.append(\"r.type IN $relation_types\")\n",
    "        if conditions:\n",
    "            query += \"WHERE \" + \" AND \".join(conditions) + \"\\n\"\n",
    "        query += \"RETURN n, r, related\"\n",
    "\n",
    "        # Prepare parameters\n",
    "        parameters = {'name': name}\n",
    "        if related_names:\n",
    "            parameters['related_names'] = related_names\n",
    "        if relation_types:\n",
    "            parameters['relation_types'] = relation_types\n",
    "\n",
    "        if verbose:\n",
    "            print(query)\n",
    "\n",
    "        # Execute the query\n",
    "        with self.driver.session() as session:\n",
    "            result = session.run(query, **parameters)\n",
    "            records = list(result)\n",
    "\n",
    "            if not records:\n",
    "                raise ValueError(f\"Entity '{name}' not found or no relationships matching the criteria.\")\n",
    "\n",
    "            return [{\n",
    "                'head': record['n']['name'],\n",
    "                'relation': record['r']['type'],\n",
    "                'tail': record['related']['name']\n",
    "            } for record in records]\n",
    "\n",
    "    def list_all_nodes(self):\n",
    "        \"\"\"\n",
    "        List all nodes in the database.\n",
    "\n",
    "        :return: A list of node dictionaries.\n",
    "        \"\"\"\n",
    "        query = \"\"\"\n",
    "        MATCH (n)\n",
    "        WITH n, apoc.map.removeKey(properties(n), 'embedding') AS props\n",
    "        RETURN props\n",
    "        \"\"\"\n",
    "        with self.driver.session() as session:\n",
    "            result = session.run(query)\n",
    "            nodes = [record[\"props\"] for record in result]\n",
    "            return nodes\n",
    "\n",
    "    def list_all_relationships(self):\n",
    "        \"\"\"\n",
    "        List all relationships in the database.\n",
    "\n",
    "        :return: A list of relationship dictionaries.\n",
    "        \"\"\"\n",
    "        query = \"MATCH ()-[r]->() RETURN r\"\n",
    "        with self.driver.session() as session:\n",
    "            result = session.run(query)\n",
    "            relationships = [record[\"r\"] for record in result]\n",
    "            return relationships\n",
    "\n",
    "    def wipe_db(self):\n",
    "        \"\"\"\n",
    "        Wipe the entire database.\n",
    "        \"\"\"\n",
    "        query = \"MATCH (n) DETACH DELETE n\"\n",
    "        with self.driver.session() as session:\n",
    "            session.run(query)\n",
    "\n",
    "    def create_vector_index(self, label, property_name, dimensions):\n",
    "        \"\"\"\n",
    "        Create a vector index for nodes with a specific label and property.\n",
    "\n",
    "        :param label: The label of the nodes to create the index for.\n",
    "        :param property_name: The property of the nodes containing the vector data.\n",
    "        :param dimensions: The number of dimensions of the vector.\n",
    "        \"\"\"\n",
    "        query = f\"\"\"\n",
    "        CREATE VECTOR INDEX vector_index_{property_name} IF NOT EXISTS\n",
    "        FOR (n:{label})\n",
    "        ON (n.{property_name})\n",
    "        OPTIONS {{\n",
    "            indexConfig: {{\n",
    "                `vector.dimensions`: {dimensions},\n",
    "                `vector.similarity_function`: 'cosine'\n",
    "            }}\n",
    "        }}\n",
    "        \"\"\"\n",
    "        with self.driver.session() as session:\n",
    "            session.run(query)\n",
    "        print(f\"Vector index created for label '{label}' on property '{property_name}' with {dimensions} dimensions.\")\n",
    "\n",
    "    def search_by_embedding(self, text, top_k=5):\n",
    "        \"\"\"\n",
    "        Search for nodes with embeddings closest to the given embedding, using cosine similarity.\n",
    "\n",
    "        :param label: The label of the nodes to search for.\n",
    "        :param property_name: The property where the embedding is stored.\n",
    "        :param embedding: The vector embedding to search with.\n",
    "        :param top_k: Number of nearest nodes to return.\n",
    "        :return: A list of nodes with their similarity scores.\n",
    "        \"\"\"\n",
    "        label = 'Entity'\n",
    "        property_name = 'embedding'\n",
    "        embedding = self.generate_embedding(text)\n",
    "        query = f\"\"\"\n",
    "        CALL db.index.vector.queryNodes('vector_index_{property_name}', $top_k, $embedding)\n",
    "        YIELD node, score\n",
    "        RETURN node, score\n",
    "        ORDER BY score DESC\n",
    "        LIMIT $top_k\n",
    "        \"\"\"\n",
    "        with self.driver.session() as session:\n",
    "            result = session.run(query, embedding=embedding, top_k=top_k)\n",
    "            nodes = [{'node': record['node'], 'score': record['score']} for record in result]\n",
    "            return nodes"
   ]
  },
  {
   "cell_type": "markdown",
   "metadata": {},
   "source": [
    "# Getting Started with our Graph"
   ]
  },
  {
   "cell_type": "code",
   "execution_count": 8,
   "metadata": {
    "id": "c-os1_H-s_eH",
    "scrolled": true
   },
   "outputs": [],
   "source": [
    "graph = Neo4jGraph(uri, pw)"
   ]
  },
  {
   "cell_type": "code",
   "execution_count": 10,
   "metadata": {
    "id": "uHJ71xuNrLZl"
   },
   "outputs": [],
   "source": [
    "graph.wipe_db()"
   ]
  },
  {
   "cell_type": "code",
   "execution_count": 11,
   "metadata": {
    "colab": {
     "base_uri": "https://localhost:8080/"
    },
    "id": "ebfk9nCjqdcb",
    "outputId": "86a90f56-a437-4d14-ef75-c7859166127e"
   },
   "outputs": [
    {
     "data": {
      "text/plain": [
       "[]"
      ]
     },
     "execution_count": 11,
     "metadata": {},
     "output_type": "execute_result"
    }
   ],
   "source": [
    "graph.list_all_nodes()"
   ]
  },
  {
   "cell_type": "code",
   "execution_count": 12,
   "metadata": {
    "colab": {
     "base_uri": "https://localhost:8080/"
    },
    "id": "eu7pOB0JtWCJ",
    "outputId": "136800e4-d558-4fbd-b7fc-2b8e00d0639d"
   },
   "outputs": [
    {
     "name": "stdout",
     "output_type": "stream",
     "text": [
      "Vector index created for label 'Entity' on property 'embedding' with 1536 dimensions.\n"
     ]
    }
   ],
   "source": [
    "graph.create_vector_index('Entity', 'embedding', 1536)"
   ]
  },
  {
   "cell_type": "code",
   "execution_count": 13,
   "metadata": {
    "colab": {
     "base_uri": "https://localhost:8080/"
    },
    "id": "B4NAyWZQs-ut",
    "outputId": "cf8c07f8-64a3-422f-e047-0c5e38174f1f"
   },
   "outputs": [
    {
     "name": "stdout",
     "output_type": "stream",
     "text": [
      "Inserted triplet with embeddings for Napoleon Bonaparte and French Revolution, both labeled as 'Entity'.\n"
     ]
    }
   ],
   "source": [
    "# Insert a triplet with properties, ensuring nodes are not duplicated\n",
    "triplet = {\n",
    "    'head': 'Napoleon Bonaparte',\n",
    "    'head_label': 'Person',\n",
    "    'head_properties': {\n",
    "    },\n",
    "    'type': 'participant in',\n",
    "    'relation_properties': {\n",
    "        'since': 1799\n",
    "    },\n",
    "    'tail': 'French Revolution',\n",
    "    'tail_label': 'Event',\n",
    "    'tail_properties': {\n",
    "        'start_year': 1789,\n",
    "        'end_year': 1799\n",
    "    }\n",
    "}\n",
    "\n",
    "graph.insert_triplet(triplet)"
   ]
  },
  {
   "cell_type": "code",
   "execution_count": 14,
   "metadata": {
    "colab": {
     "base_uri": "https://localhost:8080/"
    },
    "id": "XGHGHrKaqHKw",
    "outputId": "9fee3b14-b7d5-4614-aa10-563884bf3f83"
   },
   "outputs": [
    {
     "data": {
      "text/plain": [
       "[{'name': 'Napoleon Bonaparte'},\n",
       " {'end_year': 1799, 'name': 'French Revolution', 'start_year': 1789}]"
      ]
     },
     "execution_count": 14,
     "metadata": {},
     "output_type": "execute_result"
    }
   ],
   "source": [
    "graph.list_all_nodes()"
   ]
  },
  {
   "cell_type": "code",
   "execution_count": 15,
   "metadata": {
    "colab": {
     "base_uri": "https://localhost:8080/"
    },
    "id": "Tk6bVevvtAzB",
    "outputId": "fea0b630-b2d7-4a43-b1a8-19beafa1f0da"
   },
   "outputs": [
    {
     "name": "stdout",
     "output_type": "stream",
     "text": [
      "{'head': 'Napoleon Bonaparte', 'relation': 'participant in', 'tail': 'French Revolution'}\n"
     ]
    }
   ],
   "source": [
    "# Get all relationships of an entity\n",
    "try:\n",
    "    relations = graph.get_entity_with_relations('Napoleon Bonaparte')\n",
    "    for rel in relations:\n",
    "        print(rel)\n",
    "except ValueError as e:\n",
    "    print(e)"
   ]
  },
  {
   "cell_type": "code",
   "execution_count": 16,
   "metadata": {
    "colab": {
     "base_uri": "https://localhost:8080/"
    },
    "id": "6lnebHsbwIHi",
    "outputId": "d1a951d3-ba8e-4c96-fe81-16cfa141f407"
   },
   "outputs": [
    {
     "name": "stdout",
     "output_type": "stream",
     "text": [
      "Node: Napoleon Bonaparte, Similarity: 0.9340991973876953\n",
      "Node: French Revolution, Similarity: 0.7055892944335938\n"
     ]
    }
   ],
   "source": [
    "# Search for nodes similar to the generated embedding\n",
    "similar_nodes = graph.search_by_embedding(text='Napoleon', top_k=5)\n",
    "\n",
    "for node in similar_nodes:\n",
    "    print(f\"Node: {node['node']['name']}, Similarity: {node['score']}\")\n"
   ]
  },
  {
   "cell_type": "code",
   "execution_count": 17,
   "metadata": {
    "colab": {
     "base_uri": "https://localhost:8080/"
    },
    "id": "nNzeXWlAuEXX",
    "outputId": "856a3bab-8b05-4809-e56c-87df3d3be969"
   },
   "outputs": [
    {
     "name": "stdout",
     "output_type": "stream",
     "text": [
      "{'head': 'Napoleon Bonaparte', 'relation': 'participant in', 'tail': 'French Revolution'}\n"
     ]
    }
   ],
   "source": [
    "# Get relationships filtered by related node names\n",
    "try:\n",
    "    relations = graph.get_entity_with_relations(\n",
    "        'Napoleon Bonaparte', related_names=['French Revolution']\n",
    "    )\n",
    "    for rel in relations:\n",
    "        print(rel)\n",
    "except ValueError as e:\n",
    "    print(e)\n"
   ]
  },
  {
   "cell_type": "code",
   "execution_count": 18,
   "metadata": {
    "colab": {
     "base_uri": "https://localhost:8080/"
    },
    "id": "AkyrQlhMqqaX",
    "outputId": "5a3aa8f8-1ae5-4182-c4e4-d803eb8370b2"
   },
   "outputs": [
    {
     "name": "stdout",
     "output_type": "stream",
     "text": [
      "Inserted triplet with embeddings for Napoleon Bonaparte and France, both labeled as 'Entity'.\n"
     ]
    }
   ],
   "source": [
    "# Expanded triplet with properties\n",
    "triplet = {\n",
    "    'head': 'Napoleon Bonaparte',\n",
    "    'head_label': 'Person',\n",
    "    'head_properties': {\n",
    "        'occupation': 'Emperor of the French',\n",
    "        'birth_date': '15 August 1769',\n",
    "        'death_date': '5 May 1821'\n",
    "    },\n",
    "    'type': 'exiled from',\n",
    "    'relation_properties': {\n",
    "        'year': 1815,\n",
    "        'reason': 'After defeat at Waterloo'\n",
    "    },\n",
    "    'tail': 'France',\n",
    "    'tail_label': 'Country',\n",
    "    'tail_properties': {\n",
    "        'continent': 'Europe',\n",
    "        'capital': 'Paris'\n",
    "    }\n",
    "}\n",
    "\n",
    "# Insert the triplet into the graph\n",
    "graph.insert_triplet(triplet)"
   ]
  },
  {
   "cell_type": "code",
   "execution_count": 19,
   "metadata": {
    "colab": {
     "base_uri": "https://localhost:8080/"
    },
    "id": "cFa8wrkBquLf",
    "outputId": "5e55d619-288e-4f14-c589-c079a3913a6e"
   },
   "outputs": [
    {
     "name": "stdout",
     "output_type": "stream",
     "text": [
      "{'head': 'Napoleon Bonaparte', 'relation': 'participant in', 'tail': 'French Revolution'}\n",
      "{'head': 'Napoleon Bonaparte', 'relation': 'exiled from', 'tail': 'France'}\n"
     ]
    }
   ],
   "source": [
    "# Get all relationships of an entity\n",
    "try:\n",
    "    relations = graph.get_entity_with_relations('Napoleon Bonaparte')\n",
    "    for rel in relations:\n",
    "        print(rel)\n",
    "except ValueError as e:\n",
    "    print(e)"
   ]
  },
  {
   "cell_type": "code",
   "execution_count": 20,
   "metadata": {
    "colab": {
     "base_uri": "https://localhost:8080/"
    },
    "id": "0hheOU4kxuCq",
    "outputId": "6b60befd-ed72-41e1-ca6c-453d3b8377cf"
   },
   "outputs": [
    {
     "name": "stdout",
     "output_type": "stream",
     "text": [
      "Node: Napoleon Bonaparte, Similarity: 0.9340493679046631\n",
      "Node: French Revolution, Similarity: 0.7055256366729736\n",
      "Node: France, Similarity: 0.6374058723449707\n"
     ]
    }
   ],
   "source": [
    "# Search for nodes similar to the generated embedding\n",
    "similar_nodes = graph.search_by_embedding(text='Napoleon', top_k=5)\n",
    "\n",
    "for node in similar_nodes:\n",
    "    print(f\"Node: {node['node']['name']}, Similarity: {node['score']}\")\n"
   ]
  },
  {
   "cell_type": "code",
   "execution_count": 21,
   "metadata": {
    "colab": {
     "base_uri": "https://localhost:8080/"
    },
    "id": "OkcsHclRqqYb",
    "outputId": "aa082016-a36c-48eb-b607-93a2b049e682"
   },
   "outputs": [
    {
     "name": "stdout",
     "output_type": "stream",
     "text": [
      "{'head': 'Napoleon Bonaparte', 'relation': 'participant in', 'tail': 'French Revolution'}\n"
     ]
    }
   ],
   "source": [
    "# Get relationships filtered by related node names\n",
    "try:\n",
    "    relations = graph.get_entity_with_relations(\n",
    "        'Napoleon Bonaparte',\n",
    "        related_names=['French Revolution']\n",
    "    )\n",
    "    for rel in relations:\n",
    "        print(rel)\n",
    "except ValueError as e:\n",
    "    print(e)\n"
   ]
  },
  {
   "cell_type": "code",
   "execution_count": 22,
   "metadata": {
    "id": "eos_ww_ktlz4"
   },
   "outputs": [],
   "source": [
    "edge_types = [edge.get('type') for edge in graph.list_all_relationships()]"
   ]
  },
  {
   "cell_type": "code",
   "execution_count": 23,
   "metadata": {
    "colab": {
     "base_uri": "https://localhost:8080/"
    },
    "id": "sHzLx-RytwZO",
    "outputId": "8a7a110a-8d13-4ed2-92a2-056bbbfe5538"
   },
   "outputs": [
    {
     "name": "stdout",
     "output_type": "stream",
     "text": [
      "Edge types: ['participant in', 'exiled from']\n"
     ]
    }
   ],
   "source": [
    "print(f'Edge types: {edge_types}')"
   ]
  },
  {
   "cell_type": "markdown",
   "metadata": {},
   "source": [
    "# Cross-encoders to filter for best relationships"
   ]
  },
  {
   "cell_type": "code",
   "execution_count": 26,
   "metadata": {
    "colab": {
     "base_uri": "https://localhost:8080/"
    },
    "id": "ADvYZ4tauch-",
    "outputId": "d674dca1-b753-4450-a038-886d188d8b51"
   },
   "outputs": [
    {
     "name": "stderr",
     "output_type": "stream",
     "text": [
      "/Users/sinanozdemir/Library/Python/3.9/lib/python/site-packages/torch/_utils.py:776: UserWarning: TypedStorage is deprecated. It will be removed in the future and UntypedStorage will be the only storage class. This should only matter to you if you are using storages directly.  To access UntypedStorage directly, use tensor.untyped_storage() instead of tensor.storage()\n",
      "  return self.fget.__get__(instance, owner)()\n",
      "/Users/sinanozdemir/Library/Python/3.9/lib/python/site-packages/transformers/tokenization_utils_base.py:1601: FutureWarning: `clean_up_tokenization_spaces` was not set. It will be set to `True` by default. This behavior will be depracted in transformers v4.45, and will be then set to `False` by default. For more details check this issue: https://github.com/huggingface/transformers/issues/31884\n",
      "  warnings.warn(\n"
     ]
    }
   ],
   "source": [
    "from sentence_transformers import CrossEncoder\n",
    "import torch.nn.functional as F\n",
    "\n",
    "# Initialize the model with softmax activation\n",
    "model = CrossEncoder(\n",
    "    'cross-encoder/ms-marco-MiniLM-L-2-v2',\n",
    "    max_length=512,\n",
    "    default_activation_function=lambda x: F.softmax(x, dim=0)\n",
    ")"
   ]
  },
  {
   "cell_type": "code",
   "execution_count": 27,
   "metadata": {
    "colab": {
     "base_uri": "https://localhost:8080/"
    },
    "id": "SjFj7yFXfmsE",
    "outputId": "6acdeb2b-9ae1-4d84-c8ce-23a1e29b9304"
   },
   "outputs": [
    {
     "name": "stdout",
     "output_type": "stream",
     "text": [
      "[{'name': 'exiled from', 'score': 0.9580355}]\n"
     ]
    }
   ],
   "source": [
    "def get_top_edges(query, names, threshold=0.9):\n",
    "    scores = model.predict([(query, node) for node in names])\n",
    "\n",
    "    top_names = sorted([dict(name=names[i], score=scores[i]) for i in range(len(names))], key=lambda x: x['score'], reverse=True)\n",
    "    return [name for name in top_names if name['score'] > threshold]\n",
    "\n",
    "print(get_top_edges(\"Napoleon's exile\", edge_types))"
   ]
  },
  {
   "cell_type": "code",
   "execution_count": 28,
   "metadata": {
    "colab": {
     "base_uri": "https://localhost:8080/"
    },
    "id": "l75PoUrReClh",
    "outputId": "7199a0a0-b2bd-4a51-e4f6-1d4ac54563df"
   },
   "outputs": [
    {
     "name": "stdout",
     "output_type": "stream",
     "text": [
      "Top nodes: [('Napoleon Bonaparte', 0.8205885887145996)]\n",
      "Top edges: ['exiled from']\n"
     ]
    },
    {
     "data": {
      "text/plain": [
       "['Napoleon Bonaparte exiled from France']"
      ]
     },
     "execution_count": 28,
     "metadata": {},
     "output_type": "execute_result"
    }
   ],
   "source": [
    "def get_top_relations(query, edge_types, threshold=0.7, verbose=False):\n",
    "    top_nodes = [(n['node']['name'], n['score']) for n in graph.search_by_embedding(text=query, top_k=5) if n['score'] > threshold]\n",
    "    top_edges = [_['name'] for _ in get_top_edges(query, edge_types, threshold)]\n",
    "\n",
    "    if verbose:\n",
    "        print(f'Top nodes: {top_nodes}')\n",
    "        print(f'Top edges: {top_edges}')\n",
    "\n",
    "    relations = []\n",
    "    for node_name, score in top_nodes:\n",
    "        try:\n",
    "            relations += graph.get_entity_with_relations(node_name, relation_types=top_edges)\n",
    "        except Exception as e:\n",
    "            pass\n",
    "\n",
    "    return [f'{relation[\"head\"]} {relation[\"relation\"]} {relation[\"tail\"]}' for relation in relations]\n",
    "\n",
    "get_top_relations(\"Napoleon's exile\", edge_types, verbose=True)"
   ]
  },
  {
   "cell_type": "code",
   "execution_count": 31,
   "metadata": {
    "colab": {
     "base_uri": "https://localhost:8080/"
    },
    "id": "udbmibfg1pPu",
    "outputId": "b24673d2-b345-4678-9e1f-fa9a9ab1701f"
   },
   "outputs": [
    {
     "data": {
      "text/plain": [
       "[{'head': 'Napoleon Bonaparte', 'relation': 'exiled from', 'tail': 'France'}]"
      ]
     },
     "execution_count": 31,
     "metadata": {},
     "output_type": "execute_result"
    }
   ],
   "source": [
    "graph.get_entity_with_relations(\n",
    "        'Napoleon Bonaparte',\n",
    "        relation_types=['exiled from']\n",
    "    )"
   ]
  },
  {
   "cell_type": "markdown",
   "metadata": {},
   "source": [
    "# Graph RAG"
   ]
  },
  {
   "cell_type": "code",
   "execution_count": 32,
   "metadata": {
    "id": "5FP3GW4xv0t-"
   },
   "outputs": [],
   "source": [
    "Q_A_PROMPT = '''\n",
    "You answer questions given information from a knowledge graph.\n",
    "If the query cannot be answered by the knowledge graph, say \"I don't know.\"\n",
    "\n",
    "Query: {query}\n",
    "\n",
    "Knowledge Relationships:\n",
    "{kb_rels}\n",
    "\n",
    "Response:'''\n",
    "\n",
    "def GraphRAG(query, graph, threshold=0.7, verbose=False):\n",
    "    edge_types = [edge.get('type') for edge in graph.list_all_relationships()]\n",
    "    top_edges = [_['name'] for _ in get_top_edges(query, edge_types, threshold)]\n",
    "\n",
    "    top_relations = get_top_relations(query, edge_types, threshold, verbose=verbose)\n",
    "\n",
    "    prompt = Q_A_PROMPT.format(kb_rels=\"\\n\".join(top_relations), query=query)\n",
    "\n",
    "    if verbose:\n",
    "        print(f'Prompt: {prompt}')\n",
    "\n",
    "    return client.chat.completions.create(\n",
    "        model=\"gpt-4o-mini\",\n",
    "        messages=[\n",
    "            {\n",
    "                \"role\": \"user\",\n",
    "                \"content\": prompt\n",
    "            }\n",
    "        ],\n",
    "        temperature=0\n",
    "    ).choices[0].message.content"
   ]
  },
  {
   "cell_type": "code",
   "execution_count": 33,
   "metadata": {
    "colab": {
     "base_uri": "https://localhost:8080/"
    },
    "id": "yXzAvaKwj2kr",
    "outputId": "d7829218-c031-45a0-c9dc-1b342b5208aa"
   },
   "outputs": [
    {
     "name": "stdout",
     "output_type": "stream",
     "text": [
      "Top nodes: [('Napoleon Bonaparte', 0.8153564929962158)]\n",
      "Top edges: []\n",
      "Prompt: \n",
      "You answer questions given information from a knowledge graph.\n",
      "If the query cannot be answered by the knowledge graph, say \"I don't know.\"\n",
      "\n",
      "Query: When was Napoleon born?\n",
      "\n",
      "Knowledge Relationships:\n",
      "Napoleon Bonaparte participant in French Revolution\n",
      "Napoleon Bonaparte exiled from France\n",
      "\n",
      "Response:\n",
      "I don't know.\n",
      "---\n",
      "Top nodes: [('Napoleon Bonaparte', 0.7923550605773926)]\n",
      "Top edges: []\n",
      "Prompt: \n",
      "You answer questions given information from a knowledge graph.\n",
      "If the query cannot be answered by the knowledge graph, say \"I don't know.\"\n",
      "\n",
      "Query: Where was Napoleon exlied from?\n",
      "\n",
      "Knowledge Relationships:\n",
      "Napoleon Bonaparte participant in French Revolution\n",
      "Napoleon Bonaparte exiled from France\n",
      "\n",
      "Response:\n",
      "Napoleon Bonaparte was exiled from France.\n"
     ]
    }
   ],
   "source": [
    "print(GraphRAG(\"When was Napoleon born?\", graph, verbose=True)) # I don't know.\n",
    "print('---')\n",
    "print(GraphRAG(\"Where was Napoleon exlied from?\", graph, verbose=True))  # Napoleon Bonaparte was exiled from France."
   ]
  },
  {
   "cell_type": "markdown",
   "metadata": {
    "id": "RoY9nofxe6vD"
   },
   "source": [
    "# Using Langchain to extract entities"
   ]
  },
  {
   "cell_type": "code",
   "execution_count": 34,
   "metadata": {
    "id": "uHv2JqHCbvy7",
    "scrolled": true
   },
   "outputs": [
    {
     "name": "stderr",
     "output_type": "stream",
     "text": [
      "huggingface/tokenizers: The current process just got forked, after parallelism has already been used. Disabling parallelism to avoid deadlocks...\n",
      "To disable this warning, you can either:\n",
      "\t- Avoid using `tokenizers` before the fork if possible\n",
      "\t- Explicitly set the environment variable TOKENIZERS_PARALLELISM=(true | false)\n"
     ]
    },
    {
     "name": "stdout",
     "output_type": "stream",
     "text": [
      "\u001b[33m  WARNING: The script json_repair is installed in '/Users/sinanozdemir/Library/Python/3.9/bin' which is not on PATH.\n",
      "  Consider adding this directory to PATH or, if you prefer to suppress this warning, use --no-warn-script-location.\u001b[0m\u001b[33m\n",
      "\u001b[0m\u001b[33m  WARNING: The script openai is installed in '/Users/sinanozdemir/Library/Python/3.9/bin' which is not on PATH.\n",
      "  Consider adding this directory to PATH or, if you prefer to suppress this warning, use --no-warn-script-location.\u001b[0m\u001b[33m\n",
      "\u001b[0m\u001b[31mERROR: pip's dependency resolver does not currently take into account all the packages that are installed. This behaviour is the source of the following dependency conflicts.\n",
      "crewai 0.5.0 requires langchain==0.1.0, but you have langchain 0.3.7 which is incompatible.\n",
      "crewai 0.5.0 requires langchain-openai<0.0.3,>=0.0.2, but you have langchain-openai 0.2.8 which is incompatible.\u001b[0m\u001b[31m\n",
      "\u001b[0m"
     ]
    }
   ],
   "source": [
    "!python3 -m pip install --upgrade --quiet langchain-core langchain-openai langchain_experimental langchain-community json-repair"
   ]
  },
  {
   "cell_type": "code",
   "execution_count": 35,
   "metadata": {
    "id": "XNn__Pyqc66R"
   },
   "outputs": [
    {
     "name": "stderr",
     "output_type": "stream",
     "text": [
      "/var/folders/y9/9xqbqkg90tnc0cmm0dxt985m0000gn/T/ipykernel_30770/2771563829.py:6: LangChainDeprecationWarning: The class `ChatOpenAI` was deprecated in LangChain 0.0.10 and will be removed in 1.0. An updated version of the class exists in the :class:`~langchain-openai package and should be used instead. To use it run `pip install -U :class:`~langchain-openai` and import as `from :class:`~langchain_openai import ChatOpenAI``.\n",
      "  llm = ChatOpenAI(model_name='gpt-4o')\n"
     ]
    }
   ],
   "source": [
    "from langchain_experimental.graph_transformers import LLMGraphTransformer\n",
    "import networkx as nx\n",
    "from langchain_core.documents import Document\n",
    "from langchain.chat_models import ChatOpenAI\n",
    "\n",
    "llm = ChatOpenAI(model_name='gpt-4o')"
   ]
  },
  {
   "cell_type": "code",
   "execution_count": 36,
   "metadata": {
    "id": "b6e1NoB0dyBr"
   },
   "outputs": [],
   "source": [
    "text = '''Napoleon Bonaparte[b] (born Napoleone di Buonaparte;[1][c] 15 August 1769 – 5 May 1821), later known by his regnal name Napoleon I, was a French military officer and statesman who rose to prominence during the French Revolution and led a series of successful campaigns across Europe during the French Revolutionary and Napoleonic Wars from 1796 to 1815. He was the leader of the French Republic as First Consul from 1799 to 1804, then of the French Empire as Emperor of the French from 1804 to 1814, and briefly again in 1815.\n",
    "\n",
    "Born on the island of Corsica to a family of Italian origin, Napoleon moved to mainland France in 1779 and was commissioned as an officer in the French Royal Army in 1785. He supported the French Revolution in 1789, and promoted its cause in Corsica. He rose rapidly through the ranks after winning the siege of Toulon in 1793 and defeating royalist insurgents in Paris on 13 Vendémiaire in 1795. In 1796, Napoleon commanded a military campaign against the Austrians and their Italian allies in the War of the First Coalition, scoring decisive victories and becoming a national hero. He led an invasion of Egypt and Syria in 1798 which served as a springboard to political power. In November 1799, Napoleon engineered the Coup of 18 Brumaire against the Directory, and became First Consul of the Republic. He won the Battle of Marengo in 1800, which secured France's victory in the War of the Second Coalition, and in 1803 sold the territory of Louisiana to the United States. In December 1804, Napoleon crowned himself Emperor of the French, further expanding his power.'''"
   ]
  },
  {
   "cell_type": "code",
   "execution_count": 37,
   "metadata": {
    "id": "Msg3DgbVc_pY"
   },
   "outputs": [],
   "source": [
    "documents = [Document(page_content=text)]"
   ]
  },
  {
   "cell_type": "code",
   "execution_count": 38,
   "metadata": {
    "colab": {
     "base_uri": "https://localhost:8080/"
    },
    "id": "R-_1OpJoP9Mw",
    "outputId": "b43c4b6e-3224-4074-f8d4-46b1a3ce88fd"
   },
   "outputs": [
    {
     "data": {
      "text/plain": [
       "[Document(metadata={}, page_content=\"Napoleon Bonaparte[b] (born Napoleone di Buonaparte;[1][c] 15 August 1769 – 5 May 1821), later known by his regnal name Napoleon I, was a French military officer and statesman who rose to prominence during the French Revolution and led a series of successful campaigns across Europe during the French Revolutionary and Napoleonic Wars from 1796 to 1815. He was the leader of the French Republic as First Consul from 1799 to 1804, then of the French Empire as Emperor of the French from 1804 to 1814, and briefly again in 1815.\\n\\nBorn on the island of Corsica to a family of Italian origin, Napoleon moved to mainland France in 1779 and was commissioned as an officer in the French Royal Army in 1785. He supported the French Revolution in 1789, and promoted its cause in Corsica. He rose rapidly through the ranks after winning the siege of Toulon in 1793 and defeating royalist insurgents in Paris on 13 Vendémiaire in 1795. In 1796, Napoleon commanded a military campaign against the Austrians and their Italian allies in the War of the First Coalition, scoring decisive victories and becoming a national hero. He led an invasion of Egypt and Syria in 1798 which served as a springboard to political power. In November 1799, Napoleon engineered the Coup of 18 Brumaire against the Directory, and became First Consul of the Republic. He won the Battle of Marengo in 1800, which secured France's victory in the War of the Second Coalition, and in 1803 sold the territory of Louisiana to the United States. In December 1804, Napoleon crowned himself Emperor of the French, further expanding his power.\")]"
      ]
     },
     "execution_count": 38,
     "metadata": {},
     "output_type": "execute_result"
    }
   ],
   "source": [
    "documents"
   ]
  },
  {
   "cell_type": "code",
   "execution_count": 39,
   "metadata": {
    "id": "l9lJuNlTdJcw"
   },
   "outputs": [],
   "source": [
    "llm_transformer_filtered = LLMGraphTransformer(\n",
    "    llm=llm,\n",
    "    # allowed_nodes=[\"Person\", \"Country\", \"Organization\"],\n",
    "    # allowed_relationships=[\"NATIONALITY\", \"LOCATED_IN\", \"WORKED_AT\", \"SPOUSE\"],\n",
    ")\n",
    "graph_documents_filtered = llm_transformer_filtered.convert_to_graph_documents(\n",
    "    documents\n",
    ")"
   ]
  },
  {
   "cell_type": "code",
   "execution_count": 40,
   "metadata": {
    "colab": {
     "base_uri": "https://localhost:8080/"
    },
    "id": "ZU5rnpaBejdc",
    "outputId": "b6c0cb3a-b6a2-4d47-e071-142d1b44e437",
    "scrolled": true
   },
   "outputs": [
    {
     "name": "stdout",
     "output_type": "stream",
     "text": [
      "Napoleon Bonaparte BORN_ON 15 August 1769\n",
      "Inserted triplet with embeddings for Napoleon Bonaparte and 15 August 1769, both labeled as 'Entity'.\n",
      "Napoleon Bonaparte DIED_ON 5 May 1821\n",
      "Inserted triplet with embeddings for Napoleon Bonaparte and 5 May 1821, both labeled as 'Entity'.\n",
      "Napoleon Bonaparte HAS_REGNAL_NAME Napoleon I\n",
      "Inserted triplet with embeddings for Napoleon Bonaparte and Napoleon I, both labeled as 'Entity'.\n",
      "Napoleon Bonaparte WAS French military officer and statesman\n",
      "Inserted triplet with embeddings for Napoleon Bonaparte and French military officer and statesman, both labeled as 'Entity'.\n",
      "Napoleon Bonaparte LED French Revolutionary and Napoleonic Wars\n",
      "Inserted triplet with embeddings for Napoleon Bonaparte and French Revolutionary and Napoleonic Wars, both labeled as 'Entity'.\n",
      "Napoleon Bonaparte LEADER_OF French Republic\n",
      "{code: Neo.ClientError.Statement.SyntaxError} {message: Invalid input 'Entity': expected a parameter, '&', ')', ':', 'WHERE', '{' or '|' (line 4, column 35 (offset: 120))\n",
      "\"        MERGE (t:Entity:Political Entity {name: $tail_name})\"\n",
      "                                   ^}\n",
      "Napoleon Bonaparte LEADER_OF French Empire\n",
      "{code: Neo.ClientError.Statement.SyntaxError} {message: Invalid input 'Entity': expected a parameter, '&', ')', ':', 'WHERE', '{' or '|' (line 4, column 35 (offset: 120))\n",
      "\"        MERGE (t:Entity:Political Entity {name: $tail_name})\"\n",
      "                                   ^}\n",
      "Napoleon Bonaparte BORN_IN Corsica\n",
      "Inserted triplet with embeddings for Napoleon Bonaparte and Corsica, both labeled as 'Entity'.\n",
      "Napoleon Bonaparte MOVED_TO mainland France\n",
      "Inserted triplet with embeddings for Napoleon Bonaparte and mainland France, both labeled as 'Entity'.\n",
      "Napoleon Bonaparte COMMISSIONED_AS officer in the French Royal Army\n",
      "Inserted triplet with embeddings for Napoleon Bonaparte and officer in the French Royal Army, both labeled as 'Entity'.\n",
      "Napoleon Bonaparte SUPPORTED French Revolution\n",
      "Inserted triplet with embeddings for Napoleon Bonaparte and French Revolution, both labeled as 'Entity'.\n",
      "Napoleon Bonaparte WON siege of Toulon\n",
      "Inserted triplet with embeddings for Napoleon Bonaparte and siege of Toulon, both labeled as 'Entity'.\n",
      "Napoleon Bonaparte COMMANDED military campaign against the Austrians and their Italian allies\n",
      "Inserted triplet with embeddings for Napoleon Bonaparte and military campaign against the Austrians and their Italian allies, both labeled as 'Entity'.\n",
      "Napoleon Bonaparte ENGINEERED Coup of 18 Brumaire\n",
      "Inserted triplet with embeddings for Napoleon Bonaparte and Coup of 18 Brumaire, both labeled as 'Entity'.\n",
      "Napoleon Bonaparte BECAME First Consul of the Republic\n",
      "Inserted triplet with embeddings for Napoleon Bonaparte and First Consul of the Republic, both labeled as 'Entity'.\n",
      "Napoleon Bonaparte WON Battle of Marengo\n",
      "Inserted triplet with embeddings for Napoleon Bonaparte and Battle of Marengo, both labeled as 'Entity'.\n",
      "Napoleon Bonaparte CROWNED_HIMSELF_AS Emperor of the French\n",
      "Inserted triplet with embeddings for Napoleon Bonaparte and Emperor of the French, both labeled as 'Entity'.\n",
      "Napoleon Bonaparte SOLD territory of Louisiana\n",
      "Inserted triplet with embeddings for Napoleon Bonaparte and territory of Louisiana, both labeled as 'Entity'.\n",
      "territory of Louisiana SOLD_TO United States\n",
      "Inserted triplet with embeddings for territory of Louisiana and United States, both labeled as 'Entity'.\n"
     ]
    }
   ],
   "source": [
    "# Add edges to the graph\n",
    "for edge in graph_documents_filtered[0].relationships:\n",
    "    # Extract and transform edge data\n",
    "    triplet = {\n",
    "        'head': edge.source.id,\n",
    "        'head_label': edge.source.type,\n",
    "        'head_properties': edge.source.properties,\n",
    "        'type': edge.type,\n",
    "        'relation_properties': edge.properties,\n",
    "        'tail': edge.target.id,\n",
    "        'tail_label': edge.target.type,\n",
    "        'tail_properties': edge.target.properties\n",
    "    }\n",
    "    print(triplet['head'], triplet['type'], triplet['tail'])\n",
    "\n",
    "    # Insert the triplet into the Neo4j graph\n",
    "    try:\n",
    "        graph.insert_triplet(triplet)\n",
    "    except Exception as e:\n",
    "        print(e)\n"
   ]
  },
  {
   "cell_type": "code",
   "execution_count": 41,
   "metadata": {
    "colab": {
     "base_uri": "https://localhost:8080/"
    },
    "id": "H3VFWzSAixpR",
    "outputId": "e339a9fb-9fa0-4943-e901-c9cd6dc995f6"
   },
   "outputs": [
    {
     "name": "stdout",
     "output_type": "stream",
     "text": [
      "Top nodes: [('Napoleon I', 0.8159892559051514), ('Napoleon Bonaparte', 0.815237283706665), ('Emperor of the French', 0.7418801784515381), ('French Revolutionary and Napoleonic Wars', 0.7210147380828857), ('French military officer and statesman', 0.7086644172668457)]\n",
      "Top edges: []\n",
      "Prompt: \n",
      "You answer questions given information from a knowledge graph.\n",
      "If the query cannot be answered by the knowledge graph, say \"I don't know.\"\n",
      "\n",
      "Query: When was Napoleon born?\n",
      "\n",
      "Knowledge Relationships:\n",
      "Napoleon Bonaparte HAS_REGNAL_NAME Napoleon I\n",
      "Napoleon Bonaparte SUPPORTED French Revolution\n",
      "Napoleon Bonaparte exiled from France\n",
      "Napoleon Bonaparte BORN_ON 15 August 1769\n",
      "Napoleon Bonaparte DIED_ON 5 May 1821\n",
      "Napoleon Bonaparte HAS_REGNAL_NAME Napoleon I\n",
      "Napoleon Bonaparte WAS French military officer and statesman\n",
      "Napoleon Bonaparte LED French Revolutionary and Napoleonic Wars\n",
      "Napoleon Bonaparte BORN_IN Corsica\n",
      "Napoleon Bonaparte MOVED_TO mainland France\n",
      "Napoleon Bonaparte COMMISSIONED_AS officer in the French Royal Army\n",
      "Napoleon Bonaparte WON siege of Toulon\n",
      "Napoleon Bonaparte COMMANDED military campaign against the Austrians and their Italian allies\n",
      "Napoleon Bonaparte ENGINEERED Coup of 18 Brumaire\n",
      "Napoleon Bonaparte BECAME First Consul of the Republic\n",
      "Napoleon Bonaparte WON Battle of Marengo\n",
      "Napoleon Bonaparte CROWNED_HIMSELF_AS Emperor of the French\n",
      "Napoleon Bonaparte SOLD territory of Louisiana\n",
      "Napoleon Bonaparte CROWNED_HIMSELF_AS Emperor of the French\n",
      "Napoleon Bonaparte LED French Revolutionary and Napoleonic Wars\n",
      "Napoleon Bonaparte WAS French military officer and statesman\n",
      "\n",
      "Response:\n",
      "Napoleon Bonaparte was born on 15 August 1769.\n",
      "---\n",
      "Napoleon Bonaparte was exiled from France.\n"
     ]
    }
   ],
   "source": [
    "print(GraphRAG(\"When was Napoleon born?\", graph, verbose=True))  # now we know the answer\n",
    "print('---')\n",
    "print(GraphRAG(\"Where was Napoleon exlied from?\", graph))  # same as before"
   ]
  },
  {
   "cell_type": "code",
   "execution_count": null,
   "metadata": {},
   "outputs": [],
   "source": []
  }
 ],
 "metadata": {
  "colab": {
   "provenance": []
  },
  "kernelspec": {
   "display_name": "Python (/usr/bin/python3)",
   "language": "python",
   "name": "my_python3"
  },
  "language_info": {
   "codemirror_mode": {
    "name": "ipython",
    "version": 3
   },
   "file_extension": ".py",
   "mimetype": "text/x-python",
   "name": "python",
   "nbconvert_exporter": "python",
   "pygments_lexer": "ipython3",
   "version": "3.9.6"
  }
 },
 "nbformat": 4,
 "nbformat_minor": 4
}
