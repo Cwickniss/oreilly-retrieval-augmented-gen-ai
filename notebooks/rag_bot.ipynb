{
 "cells": [
  {
   "cell_type": "code",
   "execution_count": 3,
   "metadata": {
    "id": "52V-aDb7AqWt",
    "scrolled": true
   },
   "outputs": [
    {
     "name": "stdout",
     "output_type": "stream",
     "text": [
      "Requirement already satisfied: openai in /opt/homebrew/lib/python3.11/site-packages (1.10.0)\n",
      "Requirement already satisfied: pinecone-client in /opt/homebrew/lib/python3.11/site-packages (3.0.1)\n",
      "Requirement already satisfied: supabase in /opt/homebrew/lib/python3.11/site-packages (1.0.3)\n",
      "Requirement already satisfied: anyio<5,>=3.5.0 in /opt/homebrew/lib/python3.11/site-packages (from openai) (3.7.1)\n",
      "Requirement already satisfied: distro<2,>=1.7.0 in /opt/homebrew/lib/python3.11/site-packages (from openai) (1.8.0)\n",
      "Requirement already satisfied: httpx<1,>=0.23.0 in /opt/homebrew/lib/python3.11/site-packages (from openai) (0.23.3)\n",
      "Requirement already satisfied: pydantic<3,>=1.9.0 in /opt/homebrew/lib/python3.11/site-packages (from openai) (1.10.12)\n",
      "Requirement already satisfied: sniffio in /opt/homebrew/lib/python3.11/site-packages (from openai) (1.3.0)\n",
      "Requirement already satisfied: tqdm>4 in /opt/homebrew/lib/python3.11/site-packages (from openai) (4.66.1)\n",
      "Requirement already satisfied: typing-extensions<5,>=4.7 in /opt/homebrew/lib/python3.11/site-packages (from openai) (4.8.0)\n",
      "Requirement already satisfied: certifi>=2019.11.17 in /opt/homebrew/lib/python3.11/site-packages (from pinecone-client) (2023.7.22)\n",
      "Requirement already satisfied: urllib3>=1.26.0 in /opt/homebrew/lib/python3.11/site-packages (from pinecone-client) (1.26.18)\n",
      "Requirement already satisfied: gotrue<2.0.0,>=1.0.1 in /opt/homebrew/lib/python3.11/site-packages (from supabase) (1.0.2)\n",
      "Requirement already satisfied: postgrest<0.11.0,>=0.10.6 in /opt/homebrew/lib/python3.11/site-packages (from supabase) (0.10.6)\n",
      "Requirement already satisfied: python-semantic-release==7.33.2 in /opt/homebrew/lib/python3.11/site-packages (from supabase) (7.33.2)\n",
      "Requirement already satisfied: realtime<2.0.0,>=1.0.0 in /opt/homebrew/lib/python3.11/site-packages (from supabase) (1.0.0)\n",
      "Requirement already satisfied: storage3<0.6.0,>=0.5.2 in /opt/homebrew/lib/python3.11/site-packages (from supabase) (0.5.3)\n",
      "Requirement already satisfied: supafunc<0.3.0,>=0.2.2 in /opt/homebrew/lib/python3.11/site-packages (from supabase) (0.2.2)\n",
      "Requirement already satisfied: click<9,>=7 in /opt/homebrew/lib/python3.11/site-packages (from python-semantic-release==7.33.2->supabase) (8.1.7)\n",
      "Requirement already satisfied: click-log<1,>=0.3 in /opt/homebrew/lib/python3.11/site-packages (from python-semantic-release==7.33.2->supabase) (0.4.0)\n",
      "Requirement already satisfied: gitpython<4,>=3.0.8 in /opt/homebrew/lib/python3.11/site-packages (from python-semantic-release==7.33.2->supabase) (3.1.32)\n",
      "Requirement already satisfied: invoke<2,>=1.4.1 in /opt/homebrew/lib/python3.11/site-packages (from python-semantic-release==7.33.2->supabase) (1.7.3)\n",
      "Requirement already satisfied: semver<3,>=2.10 in /opt/homebrew/lib/python3.11/site-packages (from python-semantic-release==7.33.2->supabase) (2.13.0)\n",
      "Requirement already satisfied: twine<4,>=3 in /opt/homebrew/lib/python3.11/site-packages (from python-semantic-release==7.33.2->supabase) (3.8.0)\n",
      "Requirement already satisfied: requests<3,>=2.25 in /opt/homebrew/lib/python3.11/site-packages (from python-semantic-release==7.33.2->supabase) (2.31.0)\n",
      "Requirement already satisfied: wheel in /opt/homebrew/lib/python3.11/site-packages (from python-semantic-release==7.33.2->supabase) (0.41.2)\n",
      "Requirement already satisfied: python-gitlab<4,>=2 in /opt/homebrew/lib/python3.11/site-packages (from python-semantic-release==7.33.2->supabase) (3.15.0)\n",
      "Requirement already satisfied: tomlkit~=0.10 in /opt/homebrew/lib/python3.11/site-packages (from python-semantic-release==7.33.2->supabase) (0.11.8)\n",
      "Requirement already satisfied: dotty-dict<2,>=1.3.0 in /opt/homebrew/lib/python3.11/site-packages (from python-semantic-release==7.33.2->supabase) (1.3.1)\n",
      "Requirement already satisfied: packaging in /opt/homebrew/lib/python3.11/site-packages (from python-semantic-release==7.33.2->supabase) (23.2)\n",
      "Requirement already satisfied: idna>=2.8 in /opt/homebrew/lib/python3.11/site-packages (from anyio<5,>=3.5.0->openai) (3.4)\n",
      "Requirement already satisfied: httpcore<0.17.0,>=0.15.0 in /opt/homebrew/lib/python3.11/site-packages (from httpx<1,>=0.23.0->openai) (0.16.3)\n",
      "Requirement already satisfied: rfc3986<2,>=1.3 in /opt/homebrew/lib/python3.11/site-packages (from rfc3986[idna2008]<2,>=1.3->httpx<1,>=0.23.0->openai) (1.5.0)\n",
      "Requirement already satisfied: deprecation<3.0.0,>=2.1.0 in /opt/homebrew/lib/python3.11/site-packages (from postgrest<0.11.0,>=0.10.6->supabase) (2.1.0)\n",
      "Requirement already satisfied: strenum<0.5.0,>=0.4.9 in /opt/homebrew/lib/python3.11/site-packages (from postgrest<0.11.0,>=0.10.6->supabase) (0.4.15)\n",
      "Requirement already satisfied: python-dateutil<3.0.0,>=2.8.1 in /opt/homebrew/lib/python3.11/site-packages (from realtime<2.0.0,>=1.0.0->supabase) (2.8.2)\n",
      "Requirement already satisfied: websockets<11.0,>=10.3 in /opt/homebrew/lib/python3.11/site-packages (from realtime<2.0.0,>=1.0.0->supabase) (10.4)\n",
      "Requirement already satisfied: gitdb<5,>=4.0.1 in /opt/homebrew/lib/python3.11/site-packages (from gitpython<4,>=3.0.8->python-semantic-release==7.33.2->supabase) (4.0.10)\n",
      "Requirement already satisfied: h11<0.15,>=0.13 in /opt/homebrew/lib/python3.11/site-packages (from httpcore<0.17.0,>=0.15.0->httpx<1,>=0.23.0->openai) (0.14.0)\n",
      "Requirement already satisfied: six>=1.5 in /opt/homebrew/lib/python3.11/site-packages (from python-dateutil<3.0.0,>=2.8.1->realtime<2.0.0,>=1.0.0->supabase) (1.16.0)\n",
      "Requirement already satisfied: requests-toolbelt>=0.10.1 in /opt/homebrew/lib/python3.11/site-packages (from python-gitlab<4,>=2->python-semantic-release==7.33.2->supabase) (1.0.0)\n",
      "Requirement already satisfied: charset-normalizer<4,>=2 in /opt/homebrew/lib/python3.11/site-packages (from requests<3,>=2.25->python-semantic-release==7.33.2->supabase) (2.1.1)\n",
      "Requirement already satisfied: pkginfo>=1.8.1 in /opt/homebrew/lib/python3.11/site-packages (from twine<4,>=3->python-semantic-release==7.33.2->supabase) (1.9.6)\n",
      "Requirement already satisfied: readme-renderer>=21.0 in /opt/homebrew/lib/python3.11/site-packages (from twine<4,>=3->python-semantic-release==7.33.2->supabase) (40.0)\n",
      "Requirement already satisfied: importlib-metadata>=3.6 in /opt/homebrew/lib/python3.11/site-packages (from twine<4,>=3->python-semantic-release==7.33.2->supabase) (6.8.0)\n",
      "Requirement already satisfied: keyring>=15.1 in /opt/homebrew/lib/python3.11/site-packages (from twine<4,>=3->python-semantic-release==7.33.2->supabase) (24.2.0)\n",
      "Requirement already satisfied: colorama>=0.4.3 in /opt/homebrew/lib/python3.11/site-packages (from twine<4,>=3->python-semantic-release==7.33.2->supabase) (0.4.6)\n",
      "Requirement already satisfied: smmap<6,>=3.0.1 in /opt/homebrew/lib/python3.11/site-packages (from gitdb<5,>=4.0.1->gitpython<4,>=3.0.8->python-semantic-release==7.33.2->supabase) (5.0.0)\n",
      "Requirement already satisfied: zipp>=0.5 in /opt/homebrew/lib/python3.11/site-packages (from importlib-metadata>=3.6->twine<4,>=3->python-semantic-release==7.33.2->supabase) (3.16.2)\n",
      "Requirement already satisfied: jaraco.classes in /opt/homebrew/lib/python3.11/site-packages (from keyring>=15.1->twine<4,>=3->python-semantic-release==7.33.2->supabase) (3.3.0)\n",
      "Requirement already satisfied: bleach>=2.1.0 in /opt/homebrew/lib/python3.11/site-packages (from readme-renderer>=21.0->twine<4,>=3->python-semantic-release==7.33.2->supabase) (6.0.0)\n",
      "Requirement already satisfied: docutils>=0.13.1 in /opt/homebrew/lib/python3.11/site-packages (from readme-renderer>=21.0->twine<4,>=3->python-semantic-release==7.33.2->supabase) (0.20.1)\n",
      "Requirement already satisfied: Pygments>=2.5.1 in /opt/homebrew/lib/python3.11/site-packages (from readme-renderer>=21.0->twine<4,>=3->python-semantic-release==7.33.2->supabase) (2.15.1)\n",
      "Requirement already satisfied: webencodings in /opt/homebrew/lib/python3.11/site-packages (from bleach>=2.1.0->readme-renderer>=21.0->twine<4,>=3->python-semantic-release==7.33.2->supabase) (0.5.1)\n",
      "Requirement already satisfied: more-itertools in /opt/homebrew/lib/python3.11/site-packages (from jaraco.classes->keyring>=15.1->twine<4,>=3->python-semantic-release==7.33.2->supabase) (10.0.0)\n",
      "\n",
      "\u001b[1m[\u001b[0m\u001b[34;49mnotice\u001b[0m\u001b[1;39;49m]\u001b[0m\u001b[39;49m A new release of pip is available: \u001b[0m\u001b[31;49m23.3.1\u001b[0m\u001b[39;49m -> \u001b[0m\u001b[32;49m24.0\u001b[0m\n",
      "\u001b[1m[\u001b[0m\u001b[34;49mnotice\u001b[0m\u001b[1;39;49m]\u001b[0m\u001b[39;49m To update, run: \u001b[0m\u001b[32;49mpython3.11 -m pip install --upgrade pip\u001b[0m\n"
     ]
    }
   ],
   "source": [
    "!pip install openai pinecone-client supabase"
   ]
  },
  {
   "cell_type": "code",
   "execution_count": 4,
   "metadata": {
    "id": "l8aCLNE-HxjF"
   },
   "outputs": [],
   "source": [
    "from supabase import create_client, Client\n",
    "import datetime\n",
    "\n",
    "from typing import Dict, Optional, Any\n",
    "from openai import OpenAI\n",
    "import pandas as pd\n",
    "\n",
    "from pydantic import BaseModel, Field\n",
    "from typing import List, Dict, Tuple"
   ]
  },
  {
   "cell_type": "code",
   "execution_count": null,
   "metadata": {
    "id": "d-pYjPK8JCAf"
   },
   "outputs": [],
   "source": []
  },
  {
   "cell_type": "code",
   "execution_count": 5,
   "metadata": {
    "id": "QdjM9S4YrFcQ"
   },
   "outputs": [],
   "source": [
    "url: str = userdata.get('SUPABASE_URL')\n",
    "key: str = userdata.get('SUPABASE_API_KEY')\n",
    "supabase: Client = create_client(url, key)"
   ]
  },
  {
   "cell_type": "code",
   "execution_count": null,
   "metadata": {
    "id": "PYDst0awyOBb"
   },
   "outputs": [],
   "source": []
  },
  {
   "cell_type": "code",
   "execution_count": 7,
   "metadata": {
    "id": "Z-f5mP9o0ZRJ"
   },
   "outputs": [],
   "source": [
    "client = OpenAI(api_key=userdata.get('OPENAI_API_KEY'))\n",
    "\n",
    "class ChatLLM(BaseModel):\n",
    "    model: str = 'gpt-3.5-turbo'\n",
    "    temperature: float = 0.0\n",
    "\n",
    "    def generate(self, prompt: str, stop: List[str] = None):\n",
    "        response = client.chat.completions.create(\n",
    "            model=self.model,\n",
    "            messages=[{\"role\": \"user\", \"content\": prompt}],\n",
    "            temperature=self.temperature,\n",
    "            stop=stop\n",
    "        )\n",
    "        supabase.table('cost_projecting').insert({\n",
    "            'prompt': prompt,\n",
    "            'response': response.choices[0].message.content,\n",
    "            'input_tokens': response.usage.prompt_tokens,\n",
    "            'output_tokens': response.usage.completion_tokens,\n",
    "            'model': self.model,\n",
    "            'inference_params' : {\n",
    "                'temperature': self.temperature,\n",
    "                'stop': stop\n",
    "            },\n",
    "            'is_openai': True,\n",
    "            'app': 'RAG'\n",
    "        }).execute()\n",
    "        return response.choices[0].message.content"
   ]
  },
  {
   "cell_type": "code",
   "execution_count": 8,
   "metadata": {
    "colab": {
     "base_uri": "https://localhost:8080/",
     "height": 35
    },
    "id": "g4KCGB3tUYYP",
    "outputId": "77bf66a5-5a83-4cd8-982c-4a83e232f3a8"
   },
   "outputs": [
    {
     "data": {
      "text/plain": [
       "'Hello! How can I assist you today?'"
      ]
     },
     "execution_count": 8,
     "metadata": {},
     "output_type": "execute_result"
    }
   ],
   "source": [
    "c = ChatLLM()\n",
    "c.generate('hi')"
   ]
  },
  {
   "cell_type": "code",
   "execution_count": 10,
   "metadata": {
    "colab": {
     "base_uri": "https://localhost:8080/"
    },
    "id": "1zO716qOKDGv",
    "outputId": "0fa53294-8c58-4f06-c585-3dc3b5d22d18"
   },
   "outputs": [
    {
     "data": {
      "text/plain": [
       "(3072, 2)"
      ]
     },
     "execution_count": 10,
     "metadata": {},
     "output_type": "execute_result"
    }
   ],
   "source": [
    "pinecone_key = userdata.get('PINECONE_API_KEY')\n",
    "INDEX_NAME = 'semantic-search-health-idx'\n",
    "ENGINE = 'text-embedding-3-large'  # has size 3072\n",
    "NAMESPACE = 'default'\n",
    "\n",
    "from pinecone import Pinecone, ServerlessSpec\n",
    "\n",
    "pc = Pinecone(\n",
    "    api_key=pinecone_key\n",
    ")\n",
    "# helper functions to get lists of embeddings from the OpenAI API\n",
    "def get_embeddings(texts, engine=ENGINE):\n",
    "    response = client.embeddings.create(\n",
    "        input=texts,\n",
    "        model=engine\n",
    "    )\n",
    "\n",
    "    return [d.embedding for d in list(response.data)]\n",
    "\n",
    "def get_embedding(text, engine=ENGINE):\n",
    "    return get_embeddings([text], engine)[0]\n",
    "\n",
    "len(get_embedding('hi')), len(get_embeddings(['hi', 'hello']))"
   ]
  },
  {
   "cell_type": "code",
   "execution_count": 11,
   "metadata": {
    "colab": {
     "base_uri": "https://localhost:8080/",
     "height": 35
    },
    "id": "4Guap7YEKgWz",
    "outputId": "8b22272b-b278-4620-9100-ac6137a002e8"
   },
   "outputs": [
    {
     "data": {
      "text/plain": [
       "'ae76cc4dfd345ecaeea9b8ba0d5c3437'"
      ]
     },
     "execution_count": 11,
     "metadata": {},
     "output_type": "execute_result"
    }
   ],
   "source": [
    "import hashlib\n",
    "def my_hash(s):\n",
    "    # Return the MD5 hash of the input string as a hexadecimal string\n",
    "    return hashlib.md5(s.encode()).hexdigest()\n",
    "\n",
    "my_hash('I love to hash it')"
   ]
  },
  {
   "cell_type": "code",
   "execution_count": null,
   "metadata": {
    "id": "vR4aYMURKkgi"
   },
   "outputs": [],
   "source": []
  },
  {
   "cell_type": "code",
   "execution_count": 12,
   "metadata": {
    "colab": {
     "base_uri": "https://localhost:8080/"
    },
    "id": "1blAL-k0Kpcw",
    "outputId": "31e2dce3-f33c-49b5-b134-ff0481fc8c20"
   },
   "outputs": [
    {
     "data": {
      "text/plain": [
       "<pinecone.data.index.Index at 0x12ffa8210>"
      ]
     },
     "execution_count": 12,
     "metadata": {},
     "output_type": "execute_result"
    }
   ],
   "source": [
    "# Store the index as a variable\n",
    "index = pc.Index(name=INDEX_NAME)\n",
    "index"
   ]
  },
  {
   "cell_type": "code",
   "execution_count": 16,
   "metadata": {
    "colab": {
     "base_uri": "https://localhost:8080/"
    },
    "id": "kZVHwOpcKjEg",
    "outputId": "8e63339f-7fc3-4124-f2f4-b9a4ec64dca3"
   },
   "outputs": [
    {
     "data": {
      "text/plain": [
       "[{'id': '2f0c097b3678a7fddc698513533b3edb',\n",
       "  'metadata': {'date_uploaded': '2024-04-03T16:13:11.908995',\n",
       "               'text': 'Modern understanding of the cardiovascular system began '\n",
       "                       'with the work of physician William Harvey (1578–1657), '\n",
       "                       'who described the circulation of blood in his book \"De '\n",
       "                       'motu cordis\". The English clergyman Stephen Hales made '\n",
       "                       'the first published measurement of blood pressure in '\n",
       "                       '1733.  However, hypertension as a clinical entity came '\n",
       "                       'into its own with the invention of the cuff-based '\n",
       "                       'sphygmomanometer by Scipione Riva-Rocci in 1896. This '\n",
       "                       'allowed easy measurement of systolic pressure in the '\n",
       "                       'clinic. In 1905, Nikolai Korotkoff improved the '\n",
       "                       'technique by describing the Korotkoff sounds that are '\n",
       "                       'heard when the artery is ausculted with a stethoscope '\n",
       "                       'while the sphygmomanometer cuff is deflated. This '\n",
       "                       'permitted systolic and diastolic pressure to be '\n",
       "                       'measured.'},\n",
       "  'score': 0.600765705,\n",
       "  'values': []}]"
      ]
     },
     "execution_count": 16,
     "metadata": {},
     "output_type": "execute_result"
    }
   ],
   "source": [
    "def query_from_pinecone(query, top_k=1, include_metadata=True):\n",
    "    # get embedding from THE SAME embedder as the documents\n",
    "    query_embedding = get_embedding(query, engine=ENGINE)\n",
    "\n",
    "    return index.query(\n",
    "      vector=query_embedding,\n",
    "      top_k=top_k,\n",
    "      namespace=NAMESPACE,\n",
    "      include_metadata=include_metadata   # gets the metadata (dates, text, etc)\n",
    "    ).get('matches')\n",
    "\n",
    "query_from_pinecone('In what year did Scipione Riva-Rocci invent the sphygmomanometer?')"
   ]
  },
  {
   "cell_type": "code",
   "execution_count": null,
   "metadata": {
    "id": "jxUMGOLDU3iB"
   },
   "outputs": [],
   "source": []
  },
  {
   "cell_type": "code",
   "execution_count": 17,
   "metadata": {
    "id": "P2Fg5dJ1PAOp"
   },
   "outputs": [],
   "source": [
    "FINAL_ANSWER_TOKEN = \"Assistant Response:\"\n",
    "STOP = '[END]'\n",
    "PROMPT_TEMPLATE = \"\"\"Today is {today} and you can retrieve information from a database. Response the user's input as best as you can.\n",
    "\n",
    "Here is an example of the conversation format:\n",
    "\n",
    "[START]\n",
    "User Input: the input question you must answer\n",
    "Context: retrieved context from the database\n",
    "Context Score : a score from 0 - 1 of how strong the information is a match\n",
    "Assistant Thought: This context has sufficient information to answer the question.\n",
    "Assistant Response: your final answer to the original input question which could be I don't have sufficient information to answer the question.\n",
    "[END]\n",
    "[START]\n",
    "User Input: another input question you must answer\n",
    "Context: more retrieved context from the database\n",
    "Context Score : another score from 0 - 1 of how strong the information is a match\n",
    "Assistant Thought: This context does not have sufficient information to answer the question.\n",
    "Assistant Response: your final answer to the second input question which could be I don't have sufficient information to answer the question.\n",
    "[END]\n",
    "\n",
    "Begin:\n",
    "\n",
    "{running_convo}\n",
    "\"\"\"\n",
    "\n",
    "class RagBot(BaseModel):\n",
    "    llm: ChatLLM\n",
    "    prompt_template: str = PROMPT_TEMPLATE\n",
    "    stop_pattern: List[str] = [STOP]\n",
    "    user_inputs: List[str] = []\n",
    "    ai_responses: List[str] = []\n",
    "    contexts: List[Tuple[str, float]] = []\n",
    "    verbose: bool = False\n",
    "\n",
    "    def query_from_pinecone(self, query, top_k=1, include_metadata=True):\n",
    "        return query_from_pinecone(query, top_k, include_metadata)\n",
    "\n",
    "    @property\n",
    "    def running_convo(self):\n",
    "        convo = ''\n",
    "        for index in range(len(self.user_inputs)):\n",
    "            convo += f'[START]\\nUser Input: {self.user_inputs[index]}\\n'\n",
    "            convo += f'Context: {self.contexts[index][0]}\\nContext Score: {self.contexts[index][1]}\\n'\n",
    "            if len(self.ai_responses) > index:\n",
    "                convo += self.ai_responses[index]\n",
    "                convo += '\\n[END]\\n'\n",
    "        return convo.strip()\n",
    "\n",
    "    def run(self, question: str):\n",
    "        self.user_inputs.append(question)\n",
    "        top_response = self.query_from_pinecone(question)[0]\n",
    "        self.contexts.append(\n",
    "            (top_response['metadata']['text'], top_response['score']))\n",
    "\n",
    "        prompt = self.prompt_template.format(\n",
    "                today = datetime.date.today(),\n",
    "                running_convo=self.running_convo\n",
    "        )\n",
    "        if self.verbose:\n",
    "            print('--------')\n",
    "            print('PROMPT')\n",
    "            print('--------')\n",
    "            print(prompt)\n",
    "            print('--------')\n",
    "            print('END PROMPT')\n",
    "            print('--------')\n",
    "        generated = self.llm.generate(prompt, stop=self.stop_pattern)\n",
    "        if self.verbose:\n",
    "            print('--------')\n",
    "            print('GENERATED')\n",
    "            print('--------')\n",
    "            print(generated)\n",
    "            print('--------')\n",
    "            print('END GENERATED')\n",
    "            print('--------')\n",
    "        self.ai_responses.append(generated)\n",
    "        if FINAL_ANSWER_TOKEN in generated:\n",
    "            generated = generated.split(FINAL_ANSWER_TOKEN)[-1]\n",
    "        return generated"
   ]
  },
  {
   "cell_type": "code",
   "execution_count": null,
   "metadata": {
    "id": "gVl2uWv9c4ry"
   },
   "outputs": [],
   "source": []
  },
  {
   "cell_type": "code",
   "execution_count": 18,
   "metadata": {
    "colab": {
     "base_uri": "https://localhost:8080/"
    },
    "id": "fWwgHUTaXFBa",
    "outputId": "91658f65-0a02-4533-d832-45632ff43f23"
   },
   "outputs": [
    {
     "name": "stdout",
     "output_type": "stream",
     "text": [
      " Scipione Riva-Rocci invented the sphygmomanometer in the year 1896.\n"
     ]
    }
   ],
   "source": [
    "r = RagBot(llm=ChatLLM(temperature=0.0), stop_pattern=['[END]'])\n",
    "print(r.run('In what year did Scipione Riva-Rocci invent the sphygmomanometer?'))"
   ]
  },
  {
   "cell_type": "code",
   "execution_count": 19,
   "metadata": {
    "colab": {
     "base_uri": "https://localhost:8080/"
    },
    "id": "hKYtAiuHXcSO",
    "outputId": "4d318792-ff17-4833-9cc1-4d28064235b2"
   },
   "outputs": [
    {
     "name": "stdout",
     "output_type": "stream",
     "text": [
      " I don't have sufficient information to answer the question about Obama's age.\n"
     ]
    }
   ],
   "source": [
    "print(r.run('How old is Obama'))"
   ]
  },
  {
   "cell_type": "code",
   "execution_count": 20,
   "metadata": {
    "colab": {
     "base_uri": "https://localhost:8080/"
    },
    "id": "ATrmOKUGYQCa",
    "outputId": "8edb2e6e-3bb2-45bd-cced-7dae0d9e03f4"
   },
   "outputs": [
    {
     "name": "stdout",
     "output_type": "stream",
     "text": [
      "[START]\n",
      "User Input: In what year did Scipione Riva-Rocci invent the sphygmomanometer?\n",
      "Context: Modern understanding of the cardiovascular system began with the work of physician William Harvey (1578–1657), who described the circulation of blood in his book \"De motu cordis\". The English clergyman Stephen Hales made the first published measurement of blood pressure in 1733.  However, hypertension as a clinical entity came into its own with the invention of the cuff-based sphygmomanometer by Scipione Riva-Rocci in 1896. This allowed easy measurement of systolic pressure in the clinic. In 1905, Nikolai Korotkoff improved the technique by describing the Korotkoff sounds that are heard when the artery is ausculted with a stethoscope while the sphygmomanometer cuff is deflated. This permitted systolic and diastolic pressure to be measured.\n",
      "Context Score: 0.600765705\n",
      "Assistant Thought: The context provides a direct answer to the user's question.\n",
      "Assistant Response: Scipione Riva-Rocci invented the sphygmomanometer in the year 1896.\n",
      "[END]\n",
      "[START]\n",
      "User Input: How old is Obama\n",
      "Context: Ali Bongo Ondimba (born Alain Bernard Bongo; 9 February 1959), sometimes known as Ali Bongo, is a Gabonese politician who has been President of Gabon since October 2009.\n",
      "Context Score: 0.275125355\n",
      "Assistant Thought: The context does not provide information about Obama's age.\n",
      "Assistant Response: I don't have sufficient information to answer the question about Obama's age.\n",
      "[END]\n"
     ]
    }
   ],
   "source": [
    "print(r.running_convo)"
   ]
  },
  {
   "cell_type": "code",
   "execution_count": 21,
   "metadata": {
    "id": "8XHU5WwAhZIg"
   },
   "outputs": [],
   "source": [
    "def chat_with(chatbot):\n",
    "# Chat loop\n",
    "    while True:\n",
    "        user_input = input(\"You: \")\n",
    "        if user_input.lower() in [\"exit\", \"quit\"]:\n",
    "            break\n",
    "        response = chatbot.run(user_input)\n",
    "        print(\"Bot:\", response)\n",
    "\n",
    "    # After exiting the loop, print all AI responses\n",
    "    print(\"\\nAI Responses:\")\n",
    "    print(chatbot.running_convo)"
   ]
  },
  {
   "cell_type": "code",
   "execution_count": 23,
   "metadata": {
    "colab": {
     "base_uri": "https://localhost:8080/",
     "height": 311
    },
    "id": "17az9Dr7h3Na",
    "outputId": "51e727d0-5e26-4f49-d655-ec5776c3320c",
    "scrolled": true
   },
   "outputs": [
    {
     "name": "stdin",
     "output_type": "stream",
     "text": [
      "You:  In what year did Scipione Riva-Rocci invent the sphygmomanometer?\n"
     ]
    },
    {
     "name": "stdout",
     "output_type": "stream",
     "text": [
      "Bot:  Scipione Riva-Rocci invented the sphygmomanometer in the year 1896.\n"
     ]
    },
    {
     "name": "stdin",
     "output_type": "stream",
     "text": [
      "You:  who are you/\n"
     ]
    },
    {
     "name": "stdout",
     "output_type": "stream",
     "text": [
      "Bot:  I am an AI assistant here to help answer your questions and provide information.\n"
     ]
    },
    {
     "name": "stdin",
     "output_type": "stream",
     "text": [
      "You:  amazing, what year is it?\n"
     ]
    },
    {
     "name": "stdout",
     "output_type": "stream",
     "text": [
      "Bot:  I don't have sufficient information to answer the question about the current year.\n"
     ]
    },
    {
     "name": "stdin",
     "output_type": "stream",
     "text": [
      "You:  exit\n"
     ]
    },
    {
     "name": "stdout",
     "output_type": "stream",
     "text": [
      "\n",
      "AI Responses:\n",
      "[START]\n",
      "User Input: In what year did Scipione Riva-Rocci invent the sphygmomanometer?\n",
      "Context: Modern understanding of the cardiovascular system began with the work of physician William Harvey (1578–1657), who described the circulation of blood in his book \"De motu cordis\". The English clergyman Stephen Hales made the first published measurement of blood pressure in 1733.  However, hypertension as a clinical entity came into its own with the invention of the cuff-based sphygmomanometer by Scipione Riva-Rocci in 1896. This allowed easy measurement of systolic pressure in the clinic. In 1905, Nikolai Korotkoff improved the technique by describing the Korotkoff sounds that are heard when the artery is ausculted with a stethoscope while the sphygmomanometer cuff is deflated. This permitted systolic and diastolic pressure to be measured.\n",
      "Context Score: 0.600765705\n",
      "Assistant Thought: The context provides a clear answer to the question about the invention of the sphygmomanometer.\n",
      "Assistant Response: Scipione Riva-Rocci invented the sphygmomanometer in the year 1896.\n",
      "[END]\n",
      "[START]\n",
      "User Input: who are you/\n",
      "Context: Mikado Ryūgamine, a young boy who longs for the exciting life of the big city, moves to Ikebukuro to attend Raira Academy with his childhood friend Masaomi Kida, whom he has not seen since he was young. After the two meet at the train station, they set out to explore the streets of Ikebukuro. Masaomi warns Mikado about people he does not want to cross in the city such as the violent and superhumanly strong man Shizuo Heiwajima, the information broker Izaya Orihara, and the mysterious gang known as \"The Dollars.\" After running into some of the side characters, Mikado sees a local legend called the \"Black Rider\" who rides around Ikebukuro on a black motorcycle that occasionally neighs like a horse and who is rumored to have no head under her helmet. The \"Black Rider's\" real name is Celty Sturluson; she is an Irish dullahan who is in Ikebukuro looking for her stolen head while working as an underworld courier. The narrative follows all of the characters equally, showing how their lives intersect and create a greater plot line from each character's knowledge about a common incident.\n",
      "Context Score: 0.240220144\n",
      "Assistant Thought: The context provided does not relate to the question about the identity of the assistant.\n",
      "Assistant Response: I am an AI assistant here to help answer your questions and provide information.\n",
      "[END]\n",
      "[START]\n",
      "User Input: amazing, what year is it?\n",
      "Context: In 2005, Criss Angel became the creator, director, and executive producer of the A&E Network show Criss Angel Mindfreak, and had entered production in January. Seasons 1 and 2 were filmed at The Aladdin in Las Vegas, with Season 3 at the Luxor Las Vegas. Premiering on July 20, 2005, the show's illusions included walking on water, levitating, walking up the side of Luxor Hotel (in the light of 39 focused lamps that can be seen from space), floating between two buildings, causing a Lamborghini to disappear, surviving in an exploding C4 Crate, cutting himself in half in full view of an audience and getting run over by a steamroller while lying on a bed of broken glass.\n",
      "Context Score: 0.199081749\n",
      "Assistant Thought: The context provided does not contain information about the current year.\n",
      "Assistant Response: I don't have sufficient information to answer the question about the current year.\n",
      "[END]\n"
     ]
    }
   ],
   "source": [
    "chatbot = RagBot(llm=ChatLLM(temperature=0.0), verbose=False)\n",
    "chat_with(chatbot)"
   ]
  },
  {
   "cell_type": "code",
   "execution_count": 30,
   "metadata": {
    "colab": {
     "base_uri": "https://localhost:8080/",
     "height": 709
    },
    "id": "WC-K8fjFh5Xe",
    "outputId": "58b56a18-2efa-4c0d-d660-1a3909fe26c4",
    "scrolled": true
   },
   "outputs": [
    {
     "data": {
      "text/html": [
       "<div>\n",
       "<style scoped>\n",
       "    .dataframe tbody tr th:only-of-type {\n",
       "        vertical-align: middle;\n",
       "    }\n",
       "\n",
       "    .dataframe tbody tr th {\n",
       "        vertical-align: top;\n",
       "    }\n",
       "\n",
       "    .dataframe thead th {\n",
       "        text-align: right;\n",
       "    }\n",
       "</style>\n",
       "<table border=\"1\" class=\"dataframe\">\n",
       "  <thead>\n",
       "    <tr style=\"text-align: right;\">\n",
       "      <th></th>\n",
       "      <th>id</th>\n",
       "      <th>created_at</th>\n",
       "      <th>prompt</th>\n",
       "      <th>response</th>\n",
       "      <th>model</th>\n",
       "      <th>is_openai</th>\n",
       "      <th>input_tokens</th>\n",
       "      <th>output_tokens</th>\n",
       "      <th>inference_params</th>\n",
       "      <th>app</th>\n",
       "    </tr>\n",
       "    <tr>\n",
       "      <th>created_at</th>\n",
       "      <th></th>\n",
       "      <th></th>\n",
       "      <th></th>\n",
       "      <th></th>\n",
       "      <th></th>\n",
       "      <th></th>\n",
       "      <th></th>\n",
       "      <th></th>\n",
       "      <th></th>\n",
       "      <th></th>\n",
       "    </tr>\n",
       "  </thead>\n",
       "  <tbody>\n",
       "    <tr>\n",
       "      <th>2024-03-18 19:24:56.134185+00:00</th>\n",
       "      <td>5</td>\n",
       "      <td>2024-03-18T19:24:56.134185+00:00</td>\n",
       "      <td>Today is 2024-03-18 and you can retrieve infor...</td>\n",
       "      <td>Assistant Thought: The context provided is abo...</td>\n",
       "      <td>gpt-3.5-turbo</td>\n",
       "      <td>True</td>\n",
       "      <td>285</td>\n",
       "      <td>39</td>\n",
       "      <td>{'stop': ['[END]'], 'temperature': 0.0}</td>\n",
       "      <td>RAG</td>\n",
       "    </tr>\n",
       "    <tr>\n",
       "      <th>2024-03-18 19:24:16.392024+00:00</th>\n",
       "      <td>4</td>\n",
       "      <td>2024-03-18T19:24:16.392024+00:00</td>\n",
       "      <td>Today is 2024-03-18 and you can retrieve infor...</td>\n",
       "      <td>Assistant Thought: This context does not have ...</td>\n",
       "      <td>gpt-3.5-turbo</td>\n",
       "      <td>True</td>\n",
       "      <td>403</td>\n",
       "      <td>36</td>\n",
       "      <td>{'stop': ['[END]'], 'temperature': 0.0}</td>\n",
       "      <td>RAG</td>\n",
       "    </tr>\n",
       "    <tr>\n",
       "      <th>2024-03-18 19:24:14.813647+00:00</th>\n",
       "      <td>3</td>\n",
       "      <td>2024-03-18T19:24:14.813647+00:00</td>\n",
       "      <td>Today is 2024-03-18 and you can retrieve infor...</td>\n",
       "      <td>Assistant Thought: This context has sufficient...</td>\n",
       "      <td>gpt-3.5-turbo</td>\n",
       "      <td>True</td>\n",
       "      <td>288</td>\n",
       "      <td>41</td>\n",
       "      <td>{'stop': ['[END]'], 'temperature': 0.0}</td>\n",
       "      <td>RAG</td>\n",
       "    </tr>\n",
       "    <tr>\n",
       "      <th>2024-03-18 19:25:00.481563+00:00</th>\n",
       "      <td>6</td>\n",
       "      <td>2024-03-18T19:25:00.481563+00:00</td>\n",
       "      <td>Today is 2024-03-18 and you can retrieve infor...</td>\n",
       "      <td>Assistant Thought: The context provided is abo...</td>\n",
       "      <td>gpt-3.5-turbo</td>\n",
       "      <td>True</td>\n",
       "      <td>388</td>\n",
       "      <td>52</td>\n",
       "      <td>{'stop': ['[END]'], 'temperature': 0.0}</td>\n",
       "      <td>RAG</td>\n",
       "    </tr>\n",
       "    <tr>\n",
       "      <th>2024-03-26 19:37:42.651757+00:00</th>\n",
       "      <td>126</td>\n",
       "      <td>2024-03-26T19:37:42.651757+00:00</td>\n",
       "      <td>&lt;s&gt;[INST] &lt;&lt;SYS&gt;&gt; You are a helpful assistant....</td>\n",
       "      <td>The current President of Gabon is Ali Bongo On...</td>\n",
       "      <td>meta-llama/Llama-2-7b-chat-hf</td>\n",
       "      <td>False</td>\n",
       "      <td>32</td>\n",
       "      <td>111</td>\n",
       "      <td>{'stop': None, 'temperature': 0.3}</td>\n",
       "      <td>RAG</td>\n",
       "    </tr>\n",
       "  </tbody>\n",
       "</table>\n",
       "</div>"
      ],
      "text/plain": [
       "                                   id                        created_at  \\\n",
       "created_at                                                                \n",
       "2024-03-18 19:24:56.134185+00:00    5  2024-03-18T19:24:56.134185+00:00   \n",
       "2024-03-18 19:24:16.392024+00:00    4  2024-03-18T19:24:16.392024+00:00   \n",
       "2024-03-18 19:24:14.813647+00:00    3  2024-03-18T19:24:14.813647+00:00   \n",
       "2024-03-18 19:25:00.481563+00:00    6  2024-03-18T19:25:00.481563+00:00   \n",
       "2024-03-26 19:37:42.651757+00:00  126  2024-03-26T19:37:42.651757+00:00   \n",
       "\n",
       "                                                                             prompt  \\\n",
       "created_at                                                                            \n",
       "2024-03-18 19:24:56.134185+00:00  Today is 2024-03-18 and you can retrieve infor...   \n",
       "2024-03-18 19:24:16.392024+00:00  Today is 2024-03-18 and you can retrieve infor...   \n",
       "2024-03-18 19:24:14.813647+00:00  Today is 2024-03-18 and you can retrieve infor...   \n",
       "2024-03-18 19:25:00.481563+00:00  Today is 2024-03-18 and you can retrieve infor...   \n",
       "2024-03-26 19:37:42.651757+00:00  <s>[INST] <<SYS>> You are a helpful assistant....   \n",
       "\n",
       "                                                                           response  \\\n",
       "created_at                                                                            \n",
       "2024-03-18 19:24:56.134185+00:00  Assistant Thought: The context provided is abo...   \n",
       "2024-03-18 19:24:16.392024+00:00  Assistant Thought: This context does not have ...   \n",
       "2024-03-18 19:24:14.813647+00:00  Assistant Thought: This context has sufficient...   \n",
       "2024-03-18 19:25:00.481563+00:00  Assistant Thought: The context provided is abo...   \n",
       "2024-03-26 19:37:42.651757+00:00  The current President of Gabon is Ali Bongo On...   \n",
       "\n",
       "                                                          model  is_openai  \\\n",
       "created_at                                                                   \n",
       "2024-03-18 19:24:56.134185+00:00                  gpt-3.5-turbo       True   \n",
       "2024-03-18 19:24:16.392024+00:00                  gpt-3.5-turbo       True   \n",
       "2024-03-18 19:24:14.813647+00:00                  gpt-3.5-turbo       True   \n",
       "2024-03-18 19:25:00.481563+00:00                  gpt-3.5-turbo       True   \n",
       "2024-03-26 19:37:42.651757+00:00  meta-llama/Llama-2-7b-chat-hf      False   \n",
       "\n",
       "                                  input_tokens  output_tokens  \\\n",
       "created_at                                                      \n",
       "2024-03-18 19:24:56.134185+00:00           285             39   \n",
       "2024-03-18 19:24:16.392024+00:00           403             36   \n",
       "2024-03-18 19:24:14.813647+00:00           288             41   \n",
       "2024-03-18 19:25:00.481563+00:00           388             52   \n",
       "2024-03-26 19:37:42.651757+00:00            32            111   \n",
       "\n",
       "                                                         inference_params  app  \n",
       "created_at                                                                      \n",
       "2024-03-18 19:24:56.134185+00:00  {'stop': ['[END]'], 'temperature': 0.0}  RAG  \n",
       "2024-03-18 19:24:16.392024+00:00  {'stop': ['[END]'], 'temperature': 0.0}  RAG  \n",
       "2024-03-18 19:24:14.813647+00:00  {'stop': ['[END]'], 'temperature': 0.0}  RAG  \n",
       "2024-03-18 19:25:00.481563+00:00  {'stop': ['[END]'], 'temperature': 0.0}  RAG  \n",
       "2024-03-26 19:37:42.651757+00:00       {'stop': None, 'temperature': 0.3}  RAG  "
      ]
     },
     "execution_count": 30,
     "metadata": {},
     "output_type": "execute_result"
    }
   ],
   "source": [
    "response = supabase.table('cost_projecting').select(\"*\").eq('app', 'RAG').execute()\n",
    "completions_df = pd.DataFrame(response.data)\n",
    "completions_df.index = pd.to_datetime(completions_df['created_at'])\n",
    "\n",
    "completions_df.head()"
   ]
  },
  {
   "cell_type": "code",
   "execution_count": 31,
   "metadata": {
    "colab": {
     "base_uri": "https://localhost:8080/"
    },
    "id": "MZN10TUNBl_U",
    "outputId": "4ef34f97-178d-4970-d61d-dc7ee06f2a7a"
   },
   "outputs": [
    {
     "data": {
      "text/plain": [
       "0.000754"
      ]
     },
     "execution_count": 31,
     "metadata": {},
     "output_type": "execute_result"
    }
   ],
   "source": [
    "prices = { # per 1M tokens\n",
    "    'gpt-3.5-turbo': {\n",
    "        'prompt': 0.5,\n",
    "        'completion': 1.5\n",
    "    }\n",
    "}\n",
    "\n",
    "def calculate_cost(input_tokens, output_tokens, model):\n",
    "    if model not in prices:\n",
    "        return None\n",
    "\n",
    "    prompt_cost = input_tokens / 1e6\n",
    "    completion_cost = output_tokens / 1e6\n",
    "\n",
    "    return prompt_cost + completion_cost\n",
    "\n",
    "calculate_cost(354, 400, 'gpt-3.5-turbo')"
   ]
  },
  {
   "cell_type": "code",
   "execution_count": 32,
   "metadata": {
    "id": "sujuCbtaCRQ_"
   },
   "outputs": [],
   "source": [
    "# run calculate_cost over every row\n",
    "completions_df['cost'] = completions_df.apply(\n",
    "    lambda row: calculate_cost(row['input_tokens'], row['output_tokens'], row['model']), axis=1\n",
    "    )"
   ]
  },
  {
   "cell_type": "code",
   "execution_count": 36,
   "metadata": {
    "colab": {
     "base_uri": "https://localhost:8080/"
    },
    "id": "rNLfNDZ_Niyq",
    "outputId": "f4871610-0ca0-41df-e6ac-706bc46701ac"
   },
   "outputs": [
    {
     "data": {
      "text/plain": [
       "created_at\n",
       "2024-03-24 00:00:00+00:00    0.001532\n",
       "2024-03-31 00:00:00+00:00    0.002632\n",
       "2024-04-07 00:00:00+00:00    0.003777\n",
       "Freq: W-SUN, Name: cost, dtype: float64"
      ]
     },
     "execution_count": 36,
     "metadata": {},
     "output_type": "execute_result"
    }
   ],
   "source": [
    "completions_df['cost'].resample('W').sum().sort_index()"
   ]
  },
  {
   "cell_type": "code",
   "execution_count": 37,
   "metadata": {
    "colab": {
     "base_uri": "https://localhost:8080/",
     "height": 600
    },
    "id": "Rl52XvDmCZ9_",
    "outputId": "cb718be0-4493-4ca9-bfbb-afc43a46e8bf"
   },
   "outputs": [
    {
     "data": {
      "text/plain": [
       "<Axes: xlabel='created_at'>"
      ]
     },
     "execution_count": 37,
     "metadata": {},
     "output_type": "execute_result"
    },
    {
     "data": {
      "image/png": "[encoded data removed]",
      "text/plain": [
       "<Figure size 640x480 with 1 Axes>"
      ]
     },
     "metadata": {},
     "output_type": "display_data"
    }
   ],
   "source": [
    "completions_df['cost'].resample('W').sum().sort_index().plot(kind='bar')"
   ]
  },
  {
   "cell_type": "code",
   "execution_count": 38,
   "metadata": {
    "colab": {
     "base_uri": "https://localhost:8080/",
     "height": 145,
     "referenced_widgets": [
      "407b57af59bd402dac00244305e2f856",
      "b6166615875a4e0a8972cbf11c4a9392",
      "6f466e03bf804a3d9267f2804d47acc1",
      "da5c0f5a99514333ba9e45eceb4fd6bd",
      "288d20184a634acaafafd8b329968b25",
      "f06dee851764478b8584cce45e8dcab7",
      "d2d28663782f4320aa4dddd80b8181ae",
      "cba2b29186ab47e3a7d1db0b645a4c52",
      "ad86046dcefc42eca5ae4a565764964f",
      "86f3b16d354b431b884547a1080e8bb5",
      "b8eb681fe3364acf892b117bac4ce96b",
      "834445a473cc4521aa3f0e880fe068c9",
      "9eee24c4a3e84a47bbbb8a9210ea2c6a",
      "7c21952be82d400e8c7b83dbf85f0c47",
      "2a0dc5f6e11047b6bbb0d969394494de",
      "9f95e8635cbc4058bff6738114cf180b",
      "c62d636de9ad422fbe7493e950de9129",
      "9d07643017974d03b0dcb17fcfbd331f",
      "5aa61f4cb02a4dbdbe73bcef014a4aa5",
      "db3df910f1874e3bb2b90deda5656b1a",
      "5b8a65e8d499412c8a1b04d16355bf05",
      "6836a29799ef40c8a225199dc917559d",
      "c50d95f0e6da4a0eae87b7229783000e",
      "9f6650bd3a7d465ab3e4ede858f2fb0a",
      "2debafda4d864bd1a74a59fdbd18f7a8",
      "ae51c86a0db5422c8afcbc491847b05b",
      "4d680f9058dc4f15a933e52a0cd2af90",
      "7b597bf2f1024bc7a9d8e8ca384206ef",
      "6fed166ba6154af79ef861e36a7cc1ab",
      "3a68aaa7992e439e868443a14d392c5d",
      "7d39e20d42d44d6bb987518bb9d0c77d",
      "f39feedba6f94b5c95a98459d698ffa6",
      "06af0ad89f8c4944be81441a15d8e3fb",
      "f27f4394b8f542f99259f57a820ae58e",
      "128cecd041aa4d57aeb6fe99e9ddf6af",
      "91873837f0314d06a28a1ee100e40333",
      "2eb81309003946d3abee30db43e905b1",
      "5774d85357eb48b3a9bdf25fd543e197",
      "2023ccc9b7404fa8bb335e35f5c53433",
      "65ff02d048824125a44cbca183a89e94",
      "1629a5a134d14ea8bf61dfe12f6205cc",
      "b788cc81491f46d79c23a3af6b522754",
      "ca71f2a2dce643758451307a0a27114e",
      "32549675635f40e7a683d9f56124a8ec"
     ]
    },
    "id": "2Udf6YLAPt_c",
    "outputId": "1beef430-aceb-4f64-82bb-ebce11875619"
   },
   "outputs": [
    {
     "data": {
      "application/vnd.jupyter.widget-view+json": {
       "model_id": "6d83f863ebc04fceb468bc661cae329e",
       "version_major": 2,
       "version_minor": 0
      },
      "text/plain": [
       "tokenizer_config.json:   0%|          | 0.00/746 [00:00<?, ?B/s]"
      ]
     },
     "metadata": {},
     "output_type": "display_data"
    },
    {
     "data": {
      "application/vnd.jupyter.widget-view+json": {
       "model_id": "9a5e61a8a66e48a498f94cb057756ae4",
       "version_major": 2,
       "version_minor": 0
      },
      "text/plain": [
       "tokenizer.model:   0%|          | 0.00/500k [00:00<?, ?B/s]"
      ]
     },
     "metadata": {},
     "output_type": "display_data"
    },
    {
     "data": {
      "application/vnd.jupyter.widget-view+json": {
       "model_id": "7b4cb7e57f6b426e927c547b5d695793",
       "version_major": 2,
       "version_minor": 0
      },
      "text/plain": [
       "added_tokens.json:   0%|          | 0.00/21.0 [00:00<?, ?B/s]"
      ]
     },
     "metadata": {},
     "output_type": "display_data"
    },
    {
     "data": {
      "application/vnd.jupyter.widget-view+json": {
       "model_id": "249da3ced65c4e5db37caa7ce1d2fbed",
       "version_major": 2,
       "version_minor": 0
      },
      "text/plain": [
       "special_tokens_map.json:   0%|          | 0.00/435 [00:00<?, ?B/s]"
      ]
     },
     "metadata": {},
     "output_type": "display_data"
    }
   ],
   "source": [
    "from transformers import AutoTokenizer\n",
    "\n",
    "tokenizer = AutoTokenizer.from_pretrained(\"nousresearch/llama-2-13b-chat-hf\")"
   ]
  },
  {
   "cell_type": "code",
   "execution_count": 48,
   "metadata": {
    "id": "0KuXAxt7Cmtt"
   },
   "outputs": [],
   "source": [
    "import requests\n",
    "\n",
    "INSTRUCT_API_URL = \"https://xvlp6ehdc08woe9p.us-east-1.aws.endpoints.huggingface.cloud\"\n",
    "headers = {\n",
    "\t\"Accept\" : \"application/json\",\n",
    "\t\"Authorization\": \"Bearer \"+ userdata.get(\"HF_TOKEN\"),\n",
    "\t\"Content-Type\": \"application/json\"\n",
    "}\n",
    "\n",
    "class LlamaChatLLM(ChatLLM):\n",
    "    model: str = 'meta-llama/Llama-2-13b-chat-hf'\n",
    "    temperature: float = 0.3\n",
    "    do_sample: bool = True\n",
    "    max_new_tokens: int = 256\n",
    "\n",
    "    def generate(self, prompt: str, stop: List[str] = None):\n",
    "        def query(payload, url):\n",
    "            response = requests.post(url, headers=headers, json=payload)\n",
    "            return response.json()\n",
    "\n",
    "        system_prompt = \"\"\"You are a helpful assistant.\"\"\".strip()\n",
    "        _input = f\"<s>[INST] <<SYS>> {system_prompt} <</SYS>> {prompt} [/INST]\"\n",
    "        _input = prompt\n",
    "        response = query({\n",
    "            \"inputs\": _input,\n",
    "            \"parameters\": {\n",
    "                \"temperature\": self.temperature,\n",
    "                \"do_sample\": self.do_sample,\n",
    "                \"max_new_tokens\": self.max_new_tokens\n",
    "            }\n",
    "        }, url=INSTRUCT_API_URL)\n",
    "\n",
    "        if type(response) == dict and response.get('error'):\n",
    "            raise ValueError(response.get('error'))\n",
    "        response = response[0]['generated_text'].strip()\n",
    "        response = response.split(_input)[-1].strip()\n",
    "        for s in stop:\n",
    "            if s in response:\n",
    "                response = response.split(s)[0].strip()\n",
    "                break\n",
    "        supabase.table('cost_projecting').insert({\n",
    "            'prompt': _input,\n",
    "            'response': response,\n",
    "            'input_tokens': len(tokenizer(_input)['input_ids']),\n",
    "            'output_tokens': len(tokenizer(response)['input_ids']),\n",
    "            'model': self.model,\n",
    "            'inference_params' : {\n",
    "                'temperature': self.temperature,\n",
    "                'stop': stop\n",
    "            },\n",
    "            'is_openai': False,\n",
    "            'app': 'RAG'\n",
    "        }).execute()\n",
    "        return response"
   ]
  },
  {
   "cell_type": "code",
   "execution_count": 50,
   "metadata": {
    "id": "g1_3JTCOPCVt",
    "scrolled": true
   },
   "outputs": [
    {
     "name": "stdin",
     "output_type": "stream",
     "text": [
      "You:  In what year did Scipione Riva-Rocci invent the sphygmomanometer?\n"
     ]
    },
    {
     "name": "stdout",
     "output_type": "stream",
     "text": [
      "Bot:  Scipione Riva-Rocci invented the sphygmomanometer in 1896.\n"
     ]
    },
    {
     "name": "stdin",
     "output_type": "stream",
     "text": [
      "You:  how old is Obama/\n"
     ]
    },
    {
     "name": "stdout",
     "output_type": "stream",
     "text": [
      "Bot:  I don't have sufficient information to answer the question.\n"
     ]
    },
    {
     "name": "stdin",
     "output_type": "stream",
     "text": [
      "You:  who are you?\n"
     ]
    },
    {
     "name": "stdout",
     "output_type": "stream",
     "text": [
      "Bot:  I don't have sufficient information to answer the question.\n"
     ]
    },
    {
     "name": "stdin",
     "output_type": "stream",
     "text": [
      "You:  exit\n"
     ]
    },
    {
     "name": "stdout",
     "output_type": "stream",
     "text": [
      "\n",
      "AI Responses:\n",
      "[START]\n",
      "User Input: In what year did Scipione Riva-Rocci invent the sphygmomanometer?\n",
      "Context: Modern understanding of the cardiovascular system began with the work of physician William Harvey (1578–1657), who described the circulation of blood in his book \"De motu cordis\". The English clergyman Stephen Hales made the first published measurement of blood pressure in 1733.  However, hypertension as a clinical entity came into its own with the invention of the cuff-based sphygmomanometer by Scipione Riva-Rocci in 1896. This allowed easy measurement of systolic pressure in the clinic. In 1905, Nikolai Korotkoff improved the technique by describing the Korotkoff sounds that are heard when the artery is ausculted with a stethoscope while the sphygmomanometer cuff is deflated. This permitted systolic and diastolic pressure to be measured.\n",
      "Context Score: 0.600845695\n",
      "Assistant Thought: This context has sufficient information to answer the question.\n",
      "Assistant Response: Scipione Riva-Rocci invented the sphygmomanometer in 1896.\n",
      "[END]\n",
      "[START]\n",
      "User Input: how old is Obama/\n",
      "Context: Ali Bongo Ondimba (born Alain Bernard Bongo; 9 February 1959), sometimes known as Ali Bongo, is a Gabonese politician who has been President of Gabon since October 2009.\n",
      "Context Score: 0.311559349\n",
      "Assistant Thought: This context does not have sufficient information to answer the question.\n",
      "Assistant Response: I don't have sufficient information to answer the question.\n",
      "[END]\n",
      "[START]\n",
      "User Input: who are you?\n",
      "Context: Lee Min-ho (Korean: 이민호; Hanja: 李敏鎬, born June 22, 1987) is a South Korean actor and singer. He first gained widespread fame in Korea and parts of Asia with his role as Gu Jun-pyo in Boys Over Flowers in 2009. The role won him a Best New Actor award at the 45th Baeksang Arts Awards. He is noted for his leading roles in City Hunter (2011), The Heirs (2013) and Legend of the Blue Sea (2016). The success of Lee's television dramas throughout Asia established him as a top Hallyu star. Lee starred in his first leading role in film with Gangnam Blues (2015), followed by his first China-produced film Bounty Hunters (2016).\n",
      "Context Score: 0.254356265\n",
      "Assistant Thought: This context does not have sufficient information to answer the question.\n",
      "Assistant Response: I don't have sufficient information to answer the question.\n",
      "[END]\n"
     ]
    }
   ],
   "source": [
    "llama_llm = LlamaChatLLM(temperature=0.05)\n",
    "chat_with(RagBot(llm=llama_llm, verbose=False, stop_pattern=['[END]']))"
   ]
  },
  {
   "cell_type": "code",
   "execution_count": null,
   "metadata": {},
   "outputs": [],
   "source": []
  }
 ],
 "metadata": {
  "colab": {
   "provenance": []
  },
  "kernelspec": {
   "display_name": "Python 3 (ipykernel)",
   "language": "python",
   "name": "python3"
  },
  "language_info": {
   "codemirror_mode": {
    "name": "ipython",
    "version": 3
   },
   "file_extension": ".py",
   "mimetype": "text/x-python",
   "name": "python",
   "nbconvert_exporter": "python",
   "pygments_lexer": "ipython3",
   "version": "3.11.5"
  },
  "widgets": {
   "application/vnd.jupyter.widget-state+json": {
    "06af0ad89f8c4944be81441a15d8e3fb": {
     "model_module": "@jupyter-widgets/controls",
     "model_module_version": "1.5.0",
     "model_name": "DescriptionStyleModel",
     "state": {
      "_model_module": "@jupyter-widgets/controls",
      "_model_module_version": "1.5.0",
      "_model_name": "DescriptionStyleModel",
      "_view_count": null,
      "_view_module": "@jupyter-widgets/base",
      "_view_module_version": "1.2.0",
      "_view_name": "StyleView",
      "description_width": ""
     }
    },
    "128cecd041aa4d57aeb6fe99e9ddf6af": {
     "model_module": "@jupyter-widgets/controls",
     "model_module_version": "1.5.0",
     "model_name": "HTMLModel",
     "state": {
      "_dom_classes": [],
      "_model_module": "@jupyter-widgets/controls",
      "_model_module_version": "1.5.0",
      "_model_name": "HTMLModel",
      "_view_count": null,
      "_view_module": "@jupyter-widgets/controls",
      "_view_module_version": "1.5.0",
      "_view_name": "HTMLView",
      "description": "",
      "description_tooltip": null,
      "layout": "IPY_MODEL_2023ccc9b7404fa8bb335e35f5c53433",
      "placeholder": "​",
      "style": "IPY_MODEL_65ff02d048824125a44cbca183a89e94",
      "value": "special_tokens_map.json: 100%"
     }
    },
    "1629a5a134d14ea8bf61dfe12f6205cc": {
     "model_module": "@jupyter-widgets/base",
     "model_module_version": "1.2.0",
     "model_name": "LayoutModel",
     "state": {
      "_model_module": "@jupyter-widgets/base",
      "_model_module_version": "1.2.0",
      "_model_name": "LayoutModel",
      "_view_count": null,
      "_view_module": "@jupyter-widgets/base",
      "_view_module_version": "1.2.0",
      "_view_name": "LayoutView",
      "align_content": null,
      "align_items": null,
      "align_self": null,
      "border": null,
      "bottom": null,
      "display": null,
      "flex": null,
      "flex_flow": null,
      "grid_area": null,
      "grid_auto_columns": null,
      "grid_auto_flow": null,
      "grid_auto_rows": null,
      "grid_column": null,
      "grid_gap": null,
      "grid_row": null,
      "grid_template_areas": null,
      "grid_template_columns": null,
      "grid_template_rows": null,
      "height": null,
      "justify_content": null,
      "justify_items": null,
      "left": null,
      "margin": null,
      "max_height": null,
      "max_width": null,
      "min_height": null,
      "min_width": null,
      "object_fit": null,
      "object_position": null,
      "order": null,
      "overflow": null,
      "overflow_x": null,
      "overflow_y": null,
      "padding": null,
      "right": null,
      "top": null,
      "visibility": null,
      "width": null
     }
    },
    "2023ccc9b7404fa8bb335e35f5c53433": {
     "model_module": "@jupyter-widgets/base",
     "model_module_version": "1.2.0",
     "model_name": "LayoutModel",
     "state": {
      "_model_module": "@jupyter-widgets/base",
      "_model_module_version": "1.2.0",
      "_model_name": "LayoutModel",
      "_view_count": null,
      "_view_module": "@jupyter-widgets/base",
      "_view_module_version": "1.2.0",
      "_view_name": "LayoutView",
      "align_content": null,
      "align_items": null,
      "align_self": null,
      "border": null,
      "bottom": null,
      "display": null,
      "flex": null,
      "flex_flow": null,
      "grid_area": null,
      "grid_auto_columns": null,
      "grid_auto_flow": null,
      "grid_auto_rows": null,
      "grid_column": null,
      "grid_gap": null,
      "grid_row": null,
      "grid_template_areas": null,
      "grid_template_columns": null,
      "grid_template_rows": null,
      "height": null,
      "justify_content": null,
      "justify_items": null,
      "left": null,
      "margin": null,
      "max_height": null,
      "max_width": null,
      "min_height": null,
      "min_width": null,
      "object_fit": null,
      "object_position": null,
      "order": null,
      "overflow": null,
      "overflow_x": null,
      "overflow_y": null,
      "padding": null,
      "right": null,
      "top": null,
      "visibility": null,
      "width": null
     }
    },
    "288d20184a634acaafafd8b329968b25": {
     "model_module": "@jupyter-widgets/base",
     "model_module_version": "1.2.0",
     "model_name": "LayoutModel",
     "state": {
      "_model_module": "@jupyter-widgets/base",
      "_model_module_version": "1.2.0",
      "_model_name": "LayoutModel",
      "_view_count": null,
      "_view_module": "@jupyter-widgets/base",
      "_view_module_version": "1.2.0",
      "_view_name": "LayoutView",
      "align_content": null,
      "align_items": null,
      "align_self": null,
      "border": null,
      "bottom": null,
      "display": null,
      "flex": null,
      "flex_flow": null,
      "grid_area": null,
      "grid_auto_columns": null,
      "grid_auto_flow": null,
      "grid_auto_rows": null,
      "grid_column": null,
      "grid_gap": null,
      "grid_row": null,
      "grid_template_areas": null,
      "grid_template_columns": null,
      "grid_template_rows": null,
      "height": null,
      "justify_content": null,
      "justify_items": null,
      "left": null,
      "margin": null,
      "max_height": null,
      "max_width": null,
      "min_height": null,
      "min_width": null,
      "object_fit": null,
      "object_position": null,
      "order": null,
      "overflow": null,
      "overflow_x": null,
      "overflow_y": null,
      "padding": null,
      "right": null,
      "top": null,
      "visibility": null,
      "width": null
     }
    },
    "2a0dc5f6e11047b6bbb0d969394494de": {
     "model_module": "@jupyter-widgets/controls",
     "model_module_version": "1.5.0",
     "model_name": "HTMLModel",
     "state": {
      "_dom_classes": [],
      "_model_module": "@jupyter-widgets/controls",
      "_model_module_version": "1.5.0",
      "_model_name": "HTMLModel",
      "_view_count": null,
      "_view_module": "@jupyter-widgets/controls",
      "_view_module_version": "1.5.0",
      "_view_name": "HTMLView",
      "description": "",
      "description_tooltip": null,
      "layout": "IPY_MODEL_5b8a65e8d499412c8a1b04d16355bf05",
      "placeholder": "​",
      "style": "IPY_MODEL_6836a29799ef40c8a225199dc917559d",
      "value": " 500k/500k [00:01&lt;00:00, 315kB/s]"
     }
    },
    "2debafda4d864bd1a74a59fdbd18f7a8": {
     "model_module": "@jupyter-widgets/controls",
     "model_module_version": "1.5.0",
     "model_name": "FloatProgressModel",
     "state": {
      "_dom_classes": [],
      "_model_module": "@jupyter-widgets/controls",
      "_model_module_version": "1.5.0",
      "_model_name": "FloatProgressModel",
      "_view_count": null,
      "_view_module": "@jupyter-widgets/controls",
      "_view_module_version": "1.5.0",
      "_view_name": "ProgressView",
      "bar_style": "success",
      "description": "",
      "description_tooltip": null,
      "layout": "IPY_MODEL_3a68aaa7992e439e868443a14d392c5d",
      "max": 21,
      "min": 0,
      "orientation": "horizontal",
      "style": "IPY_MODEL_7d39e20d42d44d6bb987518bb9d0c77d",
      "value": 21
     }
    },
    "2eb81309003946d3abee30db43e905b1": {
     "model_module": "@jupyter-widgets/controls",
     "model_module_version": "1.5.0",
     "model_name": "HTMLModel",
     "state": {
      "_dom_classes": [],
      "_model_module": "@jupyter-widgets/controls",
      "_model_module_version": "1.5.0",
      "_model_name": "HTMLModel",
      "_view_count": null,
      "_view_module": "@jupyter-widgets/controls",
      "_view_module_version": "1.5.0",
      "_view_name": "HTMLView",
      "description": "",
      "description_tooltip": null,
      "layout": "IPY_MODEL_ca71f2a2dce643758451307a0a27114e",
      "placeholder": "​",
      "style": "IPY_MODEL_32549675635f40e7a683d9f56124a8ec",
      "value": " 435/435 [00:00&lt;00:00, 11.0kB/s]"
     }
    },
    "32549675635f40e7a683d9f56124a8ec": {
     "model_module": "@jupyter-widgets/controls",
     "model_module_version": "1.5.0",
     "model_name": "DescriptionStyleModel",
     "state": {
      "_model_module": "@jupyter-widgets/controls",
      "_model_module_version": "1.5.0",
      "_model_name": "DescriptionStyleModel",
      "_view_count": null,
      "_view_module": "@jupyter-widgets/base",
      "_view_module_version": "1.2.0",
      "_view_name": "StyleView",
      "description_width": ""
     }
    },
    "3a68aaa7992e439e868443a14d392c5d": {
     "model_module": "@jupyter-widgets/base",
     "model_module_version": "1.2.0",
     "model_name": "LayoutModel",
     "state": {
      "_model_module": "@jupyter-widgets/base",
      "_model_module_version": "1.2.0",
      "_model_name": "LayoutModel",
      "_view_count": null,
      "_view_module": "@jupyter-widgets/base",
      "_view_module_version": "1.2.0",
      "_view_name": "LayoutView",
      "align_content": null,
      "align_items": null,
      "align_self": null,
      "border": null,
      "bottom": null,
      "display": null,
      "flex": null,
      "flex_flow": null,
      "grid_area": null,
      "grid_auto_columns": null,
      "grid_auto_flow": null,
      "grid_auto_rows": null,
      "grid_column": null,
      "grid_gap": null,
      "grid_row": null,
      "grid_template_areas": null,
      "grid_template_columns": null,
      "grid_template_rows": null,
      "height": null,
      "justify_content": null,
      "justify_items": null,
      "left": null,
      "margin": null,
      "max_height": null,
      "max_width": null,
      "min_height": null,
      "min_width": null,
      "object_fit": null,
      "object_position": null,
      "order": null,
      "overflow": null,
      "overflow_x": null,
      "overflow_y": null,
      "padding": null,
      "right": null,
      "top": null,
      "visibility": null,
      "width": null
     }
    },
    "407b57af59bd402dac00244305e2f856": {
     "model_module": "@jupyter-widgets/controls",
     "model_module_version": "1.5.0",
     "model_name": "HBoxModel",
     "state": {
      "_dom_classes": [],
      "_model_module": "@jupyter-widgets/controls",
      "_model_module_version": "1.5.0",
      "_model_name": "HBoxModel",
      "_view_count": null,
      "_view_module": "@jupyter-widgets/controls",
      "_view_module_version": "1.5.0",
      "_view_name": "HBoxView",
      "box_style": "",
      "children": [
       "IPY_MODEL_b6166615875a4e0a8972cbf11c4a9392",
       "IPY_MODEL_6f466e03bf804a3d9267f2804d47acc1",
       "IPY_MODEL_da5c0f5a99514333ba9e45eceb4fd6bd"
      ],
      "layout": "IPY_MODEL_288d20184a634acaafafd8b329968b25"
     }
    },
    "4d680f9058dc4f15a933e52a0cd2af90": {
     "model_module": "@jupyter-widgets/base",
     "model_module_version": "1.2.0",
     "model_name": "LayoutModel",
     "state": {
      "_model_module": "@jupyter-widgets/base",
      "_model_module_version": "1.2.0",
      "_model_name": "LayoutModel",
      "_view_count": null,
      "_view_module": "@jupyter-widgets/base",
      "_view_module_version": "1.2.0",
      "_view_name": "LayoutView",
      "align_content": null,
      "align_items": null,
      "align_self": null,
      "border": null,
      "bottom": null,
      "display": null,
      "flex": null,
      "flex_flow": null,
      "grid_area": null,
      "grid_auto_columns": null,
      "grid_auto_flow": null,
      "grid_auto_rows": null,
      "grid_column": null,
      "grid_gap": null,
      "grid_row": null,
      "grid_template_areas": null,
      "grid_template_columns": null,
      "grid_template_rows": null,
      "height": null,
      "justify_content": null,
      "justify_items": null,
      "left": null,
      "margin": null,
      "max_height": null,
      "max_width": null,
      "min_height": null,
      "min_width": null,
      "object_fit": null,
      "object_position": null,
      "order": null,
      "overflow": null,
      "overflow_x": null,
      "overflow_y": null,
      "padding": null,
      "right": null,
      "top": null,
      "visibility": null,
      "width": null
     }
    },
    "5774d85357eb48b3a9bdf25fd543e197": {
     "model_module": "@jupyter-widgets/base",
     "model_module_version": "1.2.0",
     "model_name": "LayoutModel",
     "state": {
      "_model_module": "@jupyter-widgets/base",
      "_model_module_version": "1.2.0",
      "_model_name": "LayoutModel",
      "_view_count": null,
      "_view_module": "@jupyter-widgets/base",
      "_view_module_version": "1.2.0",
      "_view_name": "LayoutView",
      "align_content": null,
      "align_items": null,
      "align_self": null,
      "border": null,
      "bottom": null,
      "display": null,
      "flex": null,
      "flex_flow": null,
      "grid_area": null,
      "grid_auto_columns": null,
      "grid_auto_flow": null,
      "grid_auto_rows": null,
      "grid_column": null,
      "grid_gap": null,
      "grid_row": null,
      "grid_template_areas": null,
      "grid_template_columns": null,
      "grid_template_rows": null,
      "height": null,
      "justify_content": null,
      "justify_items": null,
      "left": null,
      "margin": null,
      "max_height": null,
      "max_width": null,
      "min_height": null,
      "min_width": null,
      "object_fit": null,
      "object_position": null,
      "order": null,
      "overflow": null,
      "overflow_x": null,
      "overflow_y": null,
      "padding": null,
      "right": null,
      "top": null,
      "visibility": null,
      "width": null
     }
    },
    "5aa61f4cb02a4dbdbe73bcef014a4aa5": {
     "model_module": "@jupyter-widgets/base",
     "model_module_version": "1.2.0",
     "model_name": "LayoutModel",
     "state": {
      "_model_module": "@jupyter-widgets/base",
      "_model_module_version": "1.2.0",
      "_model_name": "LayoutModel",
      "_view_count": null,
      "_view_module": "@jupyter-widgets/base",
      "_view_module_version": "1.2.0",
      "_view_name": "LayoutView",
      "align_content": null,
      "align_items": null,
      "align_self": null,
      "border": null,
      "bottom": null,
      "display": null,
      "flex": null,
      "flex_flow": null,
      "grid_area": null,
      "grid_auto_columns": null,
      "grid_auto_flow": null,
      "grid_auto_rows": null,
      "grid_column": null,
      "grid_gap": null,
      "grid_row": null,
      "grid_template_areas": null,
      "grid_template_columns": null,
      "grid_template_rows": null,
      "height": null,
      "justify_content": null,
      "justify_items": null,
      "left": null,
      "margin": null,
      "max_height": null,
      "max_width": null,
      "min_height": null,
      "min_width": null,
      "object_fit": null,
      "object_position": null,
      "order": null,
      "overflow": null,
      "overflow_x": null,
      "overflow_y": null,
      "padding": null,
      "right": null,
      "top": null,
      "visibility": null,
      "width": null
     }
    },
    "5b8a65e8d499412c8a1b04d16355bf05": {
     "model_module": "@jupyter-widgets/base",
     "model_module_version": "1.2.0",
     "model_name": "LayoutModel",
     "state": {
      "_model_module": "@jupyter-widgets/base",
      "_model_module_version": "1.2.0",
      "_model_name": "LayoutModel",
      "_view_count": null,
      "_view_module": "@jupyter-widgets/base",
      "_view_module_version": "1.2.0",
      "_view_name": "LayoutView",
      "align_content": null,
      "align_items": null,
      "align_self": null,
      "border": null,
      "bottom": null,
      "display": null,
      "flex": null,
      "flex_flow": null,
      "grid_area": null,
      "grid_auto_columns": null,
      "grid_auto_flow": null,
      "grid_auto_rows": null,
      "grid_column": null,
      "grid_gap": null,
      "grid_row": null,
      "grid_template_areas": null,
      "grid_template_columns": null,
      "grid_template_rows": null,
      "height": null,
      "justify_content": null,
      "justify_items": null,
      "left": null,
      "margin": null,
      "max_height": null,
      "max_width": null,
      "min_height": null,
      "min_width": null,
      "object_fit": null,
      "object_position": null,
      "order": null,
      "overflow": null,
      "overflow_x": null,
      "overflow_y": null,
      "padding": null,
      "right": null,
      "top": null,
      "visibility": null,
      "width": null
     }
    },
    "65ff02d048824125a44cbca183a89e94": {
     "model_module": "@jupyter-widgets/controls",
     "model_module_version": "1.5.0",
     "model_name": "DescriptionStyleModel",
     "state": {
      "_model_module": "@jupyter-widgets/controls",
      "_model_module_version": "1.5.0",
      "_model_name": "DescriptionStyleModel",
      "_view_count": null,
      "_view_module": "@jupyter-widgets/base",
      "_view_module_version": "1.2.0",
      "_view_name": "StyleView",
      "description_width": ""
     }
    },
    "6836a29799ef40c8a225199dc917559d": {
     "model_module": "@jupyter-widgets/controls",
     "model_module_version": "1.5.0",
     "model_name": "DescriptionStyleModel",
     "state": {
      "_model_module": "@jupyter-widgets/controls",
      "_model_module_version": "1.5.0",
      "_model_name": "DescriptionStyleModel",
      "_view_count": null,
      "_view_module": "@jupyter-widgets/base",
      "_view_module_version": "1.2.0",
      "_view_name": "StyleView",
      "description_width": ""
     }
    },
    "6f466e03bf804a3d9267f2804d47acc1": {
     "model_module": "@jupyter-widgets/controls",
     "model_module_version": "1.5.0",
     "model_name": "FloatProgressModel",
     "state": {
      "_dom_classes": [],
      "_model_module": "@jupyter-widgets/controls",
      "_model_module_version": "1.5.0",
      "_model_name": "FloatProgressModel",
      "_view_count": null,
      "_view_module": "@jupyter-widgets/controls",
      "_view_module_version": "1.5.0",
      "_view_name": "ProgressView",
      "bar_style": "success",
      "description": "",
      "description_tooltip": null,
      "layout": "IPY_MODEL_cba2b29186ab47e3a7d1db0b645a4c52",
      "max": 746,
      "min": 0,
      "orientation": "horizontal",
      "style": "IPY_MODEL_ad86046dcefc42eca5ae4a565764964f",
      "value": 746
     }
    },
    "6fed166ba6154af79ef861e36a7cc1ab": {
     "model_module": "@jupyter-widgets/controls",
     "model_module_version": "1.5.0",
     "model_name": "DescriptionStyleModel",
     "state": {
      "_model_module": "@jupyter-widgets/controls",
      "_model_module_version": "1.5.0",
      "_model_name": "DescriptionStyleModel",
      "_view_count": null,
      "_view_module": "@jupyter-widgets/base",
      "_view_module_version": "1.2.0",
      "_view_name": "StyleView",
      "description_width": ""
     }
    },
    "7b597bf2f1024bc7a9d8e8ca384206ef": {
     "model_module": "@jupyter-widgets/base",
     "model_module_version": "1.2.0",
     "model_name": "LayoutModel",
     "state": {
      "_model_module": "@jupyter-widgets/base",
      "_model_module_version": "1.2.0",
      "_model_name": "LayoutModel",
      "_view_count": null,
      "_view_module": "@jupyter-widgets/base",
      "_view_module_version": "1.2.0",
      "_view_name": "LayoutView",
      "align_content": null,
      "align_items": null,
      "align_self": null,
      "border": null,
      "bottom": null,
      "display": null,
      "flex": null,
      "flex_flow": null,
      "grid_area": null,
      "grid_auto_columns": null,
      "grid_auto_flow": null,
      "grid_auto_rows": null,
      "grid_column": null,
      "grid_gap": null,
      "grid_row": null,
      "grid_template_areas": null,
      "grid_template_columns": null,
      "grid_template_rows": null,
      "height": null,
      "justify_content": null,
      "justify_items": null,
      "left": null,
      "margin": null,
      "max_height": null,
      "max_width": null,
      "min_height": null,
      "min_width": null,
      "object_fit": null,
      "object_position": null,
      "order": null,
      "overflow": null,
      "overflow_x": null,
      "overflow_y": null,
      "padding": null,
      "right": null,
      "top": null,
      "visibility": null,
      "width": null
     }
    },
    "7c21952be82d400e8c7b83dbf85f0c47": {
     "model_module": "@jupyter-widgets/controls",
     "model_module_version": "1.5.0",
     "model_name": "FloatProgressModel",
     "state": {
      "_dom_classes": [],
      "_model_module": "@jupyter-widgets/controls",
      "_model_module_version": "1.5.0",
      "_model_name": "FloatProgressModel",
      "_view_count": null,
      "_view_module": "@jupyter-widgets/controls",
      "_view_module_version": "1.5.0",
      "_view_name": "ProgressView",
      "bar_style": "success",
      "description": "",
      "description_tooltip": null,
      "layout": "IPY_MODEL_5aa61f4cb02a4dbdbe73bcef014a4aa5",
      "max": 499723,
      "min": 0,
      "orientation": "horizontal",
      "style": "IPY_MODEL_db3df910f1874e3bb2b90deda5656b1a",
      "value": 499723
     }
    },
    "7d39e20d42d44d6bb987518bb9d0c77d": {
     "model_module": "@jupyter-widgets/controls",
     "model_module_version": "1.5.0",
     "model_name": "ProgressStyleModel",
     "state": {
      "_model_module": "@jupyter-widgets/controls",
      "_model_module_version": "1.5.0",
      "_model_name": "ProgressStyleModel",
      "_view_count": null,
      "_view_module": "@jupyter-widgets/base",
      "_view_module_version": "1.2.0",
      "_view_name": "StyleView",
      "bar_color": null,
      "description_width": ""
     }
    },
    "834445a473cc4521aa3f0e880fe068c9": {
     "model_module": "@jupyter-widgets/controls",
     "model_module_version": "1.5.0",
     "model_name": "HBoxModel",
     "state": {
      "_dom_classes": [],
      "_model_module": "@jupyter-widgets/controls",
      "_model_module_version": "1.5.0",
      "_model_name": "HBoxModel",
      "_view_count": null,
      "_view_module": "@jupyter-widgets/controls",
      "_view_module_version": "1.5.0",
      "_view_name": "HBoxView",
      "box_style": "",
      "children": [
       "IPY_MODEL_9eee24c4a3e84a47bbbb8a9210ea2c6a",
       "IPY_MODEL_7c21952be82d400e8c7b83dbf85f0c47",
       "IPY_MODEL_2a0dc5f6e11047b6bbb0d969394494de"
      ],
      "layout": "IPY_MODEL_9f95e8635cbc4058bff6738114cf180b"
     }
    },
    "86f3b16d354b431b884547a1080e8bb5": {
     "model_module": "@jupyter-widgets/base",
     "model_module_version": "1.2.0",
     "model_name": "LayoutModel",
     "state": {
      "_model_module": "@jupyter-widgets/base",
      "_model_module_version": "1.2.0",
      "_model_name": "LayoutModel",
      "_view_count": null,
      "_view_module": "@jupyter-widgets/base",
      "_view_module_version": "1.2.0",
      "_view_name": "LayoutView",
      "align_content": null,
      "align_items": null,
      "align_self": null,
      "border": null,
      "bottom": null,
      "display": null,
      "flex": null,
      "flex_flow": null,
      "grid_area": null,
      "grid_auto_columns": null,
      "grid_auto_flow": null,
      "grid_auto_rows": null,
      "grid_column": null,
      "grid_gap": null,
      "grid_row": null,
      "grid_template_areas": null,
      "grid_template_columns": null,
      "grid_template_rows": null,
      "height": null,
      "justify_content": null,
      "justify_items": null,
      "left": null,
      "margin": null,
      "max_height": null,
      "max_width": null,
      "min_height": null,
      "min_width": null,
      "object_fit": null,
      "object_position": null,
      "order": null,
      "overflow": null,
      "overflow_x": null,
      "overflow_y": null,
      "padding": null,
      "right": null,
      "top": null,
      "visibility": null,
      "width": null
     }
    },
    "91873837f0314d06a28a1ee100e40333": {
     "model_module": "@jupyter-widgets/controls",
     "model_module_version": "1.5.0",
     "model_name": "FloatProgressModel",
     "state": {
      "_dom_classes": [],
      "_model_module": "@jupyter-widgets/controls",
      "_model_module_version": "1.5.0",
      "_model_name": "FloatProgressModel",
      "_view_count": null,
      "_view_module": "@jupyter-widgets/controls",
      "_view_module_version": "1.5.0",
      "_view_name": "ProgressView",
      "bar_style": "success",
      "description": "",
      "description_tooltip": null,
      "layout": "IPY_MODEL_1629a5a134d14ea8bf61dfe12f6205cc",
      "max": 435,
      "min": 0,
      "orientation": "horizontal",
      "style": "IPY_MODEL_b788cc81491f46d79c23a3af6b522754",
      "value": 435
     }
    },
    "9d07643017974d03b0dcb17fcfbd331f": {
     "model_module": "@jupyter-widgets/controls",
     "model_module_version": "1.5.0",
     "model_name": "DescriptionStyleModel",
     "state": {
      "_model_module": "@jupyter-widgets/controls",
      "_model_module_version": "1.5.0",
      "_model_name": "DescriptionStyleModel",
      "_view_count": null,
      "_view_module": "@jupyter-widgets/base",
      "_view_module_version": "1.2.0",
      "_view_name": "StyleView",
      "description_width": ""
     }
    },
    "9eee24c4a3e84a47bbbb8a9210ea2c6a": {
     "model_module": "@jupyter-widgets/controls",
     "model_module_version": "1.5.0",
     "model_name": "HTMLModel",
     "state": {
      "_dom_classes": [],
      "_model_module": "@jupyter-widgets/controls",
      "_model_module_version": "1.5.0",
      "_model_name": "HTMLModel",
      "_view_count": null,
      "_view_module": "@jupyter-widgets/controls",
      "_view_module_version": "1.5.0",
      "_view_name": "HTMLView",
      "description": "",
      "description_tooltip": null,
      "layout": "IPY_MODEL_c62d636de9ad422fbe7493e950de9129",
      "placeholder": "​",
      "style": "IPY_MODEL_9d07643017974d03b0dcb17fcfbd331f",
      "value": "tokenizer.model: 100%"
     }
    },
    "9f6650bd3a7d465ab3e4ede858f2fb0a": {
     "model_module": "@jupyter-widgets/controls",
     "model_module_version": "1.5.0",
     "model_name": "HTMLModel",
     "state": {
      "_dom_classes": [],
      "_model_module": "@jupyter-widgets/controls",
      "_model_module_version": "1.5.0",
      "_model_name": "HTMLModel",
      "_view_count": null,
      "_view_module": "@jupyter-widgets/controls",
      "_view_module_version": "1.5.0",
      "_view_name": "HTMLView",
      "description": "",
      "description_tooltip": null,
      "layout": "IPY_MODEL_7b597bf2f1024bc7a9d8e8ca384206ef",
      "placeholder": "​",
      "style": "IPY_MODEL_6fed166ba6154af79ef861e36a7cc1ab",
      "value": "added_tokens.json: 100%"
     }
    },
    "9f95e8635cbc4058bff6738114cf180b": {
     "model_module": "@jupyter-widgets/base",
     "model_module_version": "1.2.0",
     "model_name": "LayoutModel",
     "state": {
      "_model_module": "@jupyter-widgets/base",
      "_model_module_version": "1.2.0",
      "_model_name": "LayoutModel",
      "_view_count": null,
      "_view_module": "@jupyter-widgets/base",
      "_view_module_version": "1.2.0",
      "_view_name": "LayoutView",
      "align_content": null,
      "align_items": null,
      "align_self": null,
      "border": null,
      "bottom": null,
      "display": null,
      "flex": null,
      "flex_flow": null,
      "grid_area": null,
      "grid_auto_columns": null,
      "grid_auto_flow": null,
      "grid_auto_rows": null,
      "grid_column": null,
      "grid_gap": null,
      "grid_row": null,
      "grid_template_areas": null,
      "grid_template_columns": null,
      "grid_template_rows": null,
      "height": null,
      "justify_content": null,
      "justify_items": null,
      "left": null,
      "margin": null,
      "max_height": null,
      "max_width": null,
      "min_height": null,
      "min_width": null,
      "object_fit": null,
      "object_position": null,
      "order": null,
      "overflow": null,
      "overflow_x": null,
      "overflow_y": null,
      "padding": null,
      "right": null,
      "top": null,
      "visibility": null,
      "width": null
     }
    },
    "ad86046dcefc42eca5ae4a565764964f": {
     "model_module": "@jupyter-widgets/controls",
     "model_module_version": "1.5.0",
     "model_name": "ProgressStyleModel",
     "state": {
      "_model_module": "@jupyter-widgets/controls",
      "_model_module_version": "1.5.0",
      "_model_name": "ProgressStyleModel",
      "_view_count": null,
      "_view_module": "@jupyter-widgets/base",
      "_view_module_version": "1.2.0",
      "_view_name": "StyleView",
      "bar_color": null,
      "description_width": ""
     }
    },
    "ae51c86a0db5422c8afcbc491847b05b": {
     "model_module": "@jupyter-widgets/controls",
     "model_module_version": "1.5.0",
     "model_name": "HTMLModel",
     "state": {
      "_dom_classes": [],
      "_model_module": "@jupyter-widgets/controls",
      "_model_module_version": "1.5.0",
      "_model_name": "HTMLModel",
      "_view_count": null,
      "_view_module": "@jupyter-widgets/controls",
      "_view_module_version": "1.5.0",
      "_view_name": "HTMLView",
      "description": "",
      "description_tooltip": null,
      "layout": "IPY_MODEL_f39feedba6f94b5c95a98459d698ffa6",
      "placeholder": "​",
      "style": "IPY_MODEL_06af0ad89f8c4944be81441a15d8e3fb",
      "value": " 21.0/21.0 [00:00&lt;00:00, 884B/s]"
     }
    },
    "b6166615875a4e0a8972cbf11c4a9392": {
     "model_module": "@jupyter-widgets/controls",
     "model_module_version": "1.5.0",
     "model_name": "HTMLModel",
     "state": {
      "_dom_classes": [],
      "_model_module": "@jupyter-widgets/controls",
      "_model_module_version": "1.5.0",
      "_model_name": "HTMLModel",
      "_view_count": null,
      "_view_module": "@jupyter-widgets/controls",
      "_view_module_version": "1.5.0",
      "_view_name": "HTMLView",
      "description": "",
      "description_tooltip": null,
      "layout": "IPY_MODEL_f06dee851764478b8584cce45e8dcab7",
      "placeholder": "​",
      "style": "IPY_MODEL_d2d28663782f4320aa4dddd80b8181ae",
      "value": "tokenizer_config.json: 100%"
     }
    },
    "b788cc81491f46d79c23a3af6b522754": {
     "model_module": "@jupyter-widgets/controls",
     "model_module_version": "1.5.0",
     "model_name": "ProgressStyleModel",
     "state": {
      "_model_module": "@jupyter-widgets/controls",
      "_model_module_version": "1.5.0",
      "_model_name": "ProgressStyleModel",
      "_view_count": null,
      "_view_module": "@jupyter-widgets/base",
      "_view_module_version": "1.2.0",
      "_view_name": "StyleView",
      "bar_color": null,
      "description_width": ""
     }
    },
    "b8eb681fe3364acf892b117bac4ce96b": {
     "model_module": "@jupyter-widgets/controls",
     "model_module_version": "1.5.0",
     "model_name": "DescriptionStyleModel",
     "state": {
      "_model_module": "@jupyter-widgets/controls",
      "_model_module_version": "1.5.0",
      "_model_name": "DescriptionStyleModel",
      "_view_count": null,
      "_view_module": "@jupyter-widgets/base",
      "_view_module_version": "1.2.0",
      "_view_name": "StyleView",
      "description_width": ""
     }
    },
    "c50d95f0e6da4a0eae87b7229783000e": {
     "model_module": "@jupyter-widgets/controls",
     "model_module_version": "1.5.0",
     "model_name": "HBoxModel",
     "state": {
      "_dom_classes": [],
      "_model_module": "@jupyter-widgets/controls",
      "_model_module_version": "1.5.0",
      "_model_name": "HBoxModel",
      "_view_count": null,
      "_view_module": "@jupyter-widgets/controls",
      "_view_module_version": "1.5.0",
      "_view_name": "HBoxView",
      "box_style": "",
      "children": [
       "IPY_MODEL_9f6650bd3a7d465ab3e4ede858f2fb0a",
       "IPY_MODEL_2debafda4d864bd1a74a59fdbd18f7a8",
       "IPY_MODEL_ae51c86a0db5422c8afcbc491847b05b"
      ],
      "layout": "IPY_MODEL_4d680f9058dc4f15a933e52a0cd2af90"
     }
    },
    "c62d636de9ad422fbe7493e950de9129": {
     "model_module": "@jupyter-widgets/base",
     "model_module_version": "1.2.0",
     "model_name": "LayoutModel",
     "state": {
      "_model_module": "@jupyter-widgets/base",
      "_model_module_version": "1.2.0",
      "_model_name": "LayoutModel",
      "_view_count": null,
      "_view_module": "@jupyter-widgets/base",
      "_view_module_version": "1.2.0",
      "_view_name": "LayoutView",
      "align_content": null,
      "align_items": null,
      "align_self": null,
      "border": null,
      "bottom": null,
      "display": null,
      "flex": null,
      "flex_flow": null,
      "grid_area": null,
      "grid_auto_columns": null,
      "grid_auto_flow": null,
      "grid_auto_rows": null,
      "grid_column": null,
      "grid_gap": null,
      "grid_row": null,
      "grid_template_areas": null,
      "grid_template_columns": null,
      "grid_template_rows": null,
      "height": null,
      "justify_content": null,
      "justify_items": null,
      "left": null,
      "margin": null,
      "max_height": null,
      "max_width": null,
      "min_height": null,
      "min_width": null,
      "object_fit": null,
      "object_position": null,
      "order": null,
      "overflow": null,
      "overflow_x": null,
      "overflow_y": null,
      "padding": null,
      "right": null,
      "top": null,
      "visibility": null,
      "width": null
     }
    },
    "ca71f2a2dce643758451307a0a27114e": {
     "model_module": "@jupyter-widgets/base",
     "model_module_version": "1.2.0",
     "model_name": "LayoutModel",
     "state": {
      "_model_module": "@jupyter-widgets/base",
      "_model_module_version": "1.2.0",
      "_model_name": "LayoutModel",
      "_view_count": null,
      "_view_module": "@jupyter-widgets/base",
      "_view_module_version": "1.2.0",
      "_view_name": "LayoutView",
      "align_content": null,
      "align_items": null,
      "align_self": null,
      "border": null,
      "bottom": null,
      "display": null,
      "flex": null,
      "flex_flow": null,
      "grid_area": null,
      "grid_auto_columns": null,
      "grid_auto_flow": null,
      "grid_auto_rows": null,
      "grid_column": null,
      "grid_gap": null,
      "grid_row": null,
      "grid_template_areas": null,
      "grid_template_columns": null,
      "grid_template_rows": null,
      "height": null,
      "justify_content": null,
      "justify_items": null,
      "left": null,
      "margin": null,
      "max_height": null,
      "max_width": null,
      "min_height": null,
      "min_width": null,
      "object_fit": null,
      "object_position": null,
      "order": null,
      "overflow": null,
      "overflow_x": null,
      "overflow_y": null,
      "padding": null,
      "right": null,
      "top": null,
      "visibility": null,
      "width": null
     }
    },
    "cba2b29186ab47e3a7d1db0b645a4c52": {
     "model_module": "@jupyter-widgets/base",
     "model_module_version": "1.2.0",
     "model_name": "LayoutModel",
     "state": {
      "_model_module": "@jupyter-widgets/base",
      "_model_module_version": "1.2.0",
      "_model_name": "LayoutModel",
      "_view_count": null,
      "_view_module": "@jupyter-widgets/base",
      "_view_module_version": "1.2.0",
      "_view_name": "LayoutView",
      "align_content": null,
      "align_items": null,
      "align_self": null,
      "border": null,
      "bottom": null,
      "display": null,
      "flex": null,
      "flex_flow": null,
      "grid_area": null,
      "grid_auto_columns": null,
      "grid_auto_flow": null,
      "grid_auto_rows": null,
      "grid_column": null,
      "grid_gap": null,
      "grid_row": null,
      "grid_template_areas": null,
      "grid_template_columns": null,
      "grid_template_rows": null,
      "height": null,
      "justify_content": null,
      "justify_items": null,
      "left": null,
      "margin": null,
      "max_height": null,
      "max_width": null,
      "min_height": null,
      "min_width": null,
      "object_fit": null,
      "object_position": null,
      "order": null,
      "overflow": null,
      "overflow_x": null,
      "overflow_y": null,
      "padding": null,
      "right": null,
      "top": null,
      "visibility": null,
      "width": null
     }
    },
    "d2d28663782f4320aa4dddd80b8181ae": {
     "model_module": "@jupyter-widgets/controls",
     "model_module_version": "1.5.0",
     "model_name": "DescriptionStyleModel",
     "state": {
      "_model_module": "@jupyter-widgets/controls",
      "_model_module_version": "1.5.0",
      "_model_name": "DescriptionStyleModel",
      "_view_count": null,
      "_view_module": "@jupyter-widgets/base",
      "_view_module_version": "1.2.0",
      "_view_name": "StyleView",
      "description_width": ""
     }
    },
    "da5c0f5a99514333ba9e45eceb4fd6bd": {
     "model_module": "@jupyter-widgets/controls",
     "model_module_version": "1.5.0",
     "model_name": "HTMLModel",
     "state": {
      "_dom_classes": [],
      "_model_module": "@jupyter-widgets/controls",
      "_model_module_version": "1.5.0",
      "_model_name": "HTMLModel",
      "_view_count": null,
      "_view_module": "@jupyter-widgets/controls",
      "_view_module_version": "1.5.0",
      "_view_name": "HTMLView",
      "description": "",
      "description_tooltip": null,
      "layout": "IPY_MODEL_86f3b16d354b431b884547a1080e8bb5",
      "placeholder": "​",
      "style": "IPY_MODEL_b8eb681fe3364acf892b117bac4ce96b",
      "value": " 746/746 [00:00&lt;00:00, 9.95kB/s]"
     }
    },
    "db3df910f1874e3bb2b90deda5656b1a": {
     "model_module": "@jupyter-widgets/controls",
     "model_module_version": "1.5.0",
     "model_name": "ProgressStyleModel",
     "state": {
      "_model_module": "@jupyter-widgets/controls",
      "_model_module_version": "1.5.0",
      "_model_name": "ProgressStyleModel",
      "_view_count": null,
      "_view_module": "@jupyter-widgets/base",
      "_view_module_version": "1.2.0",
      "_view_name": "StyleView",
      "bar_color": null,
      "description_width": ""
     }
    },
    "f06dee851764478b8584cce45e8dcab7": {
     "model_module": "@jupyter-widgets/base",
     "model_module_version": "1.2.0",
     "model_name": "LayoutModel",
     "state": {
      "_model_module": "@jupyter-widgets/base",
      "_model_module_version": "1.2.0",
      "_model_name": "LayoutModel",
      "_view_count": null,
      "_view_module": "@jupyter-widgets/base",
      "_view_module_version": "1.2.0",
      "_view_name": "LayoutView",
      "align_content": null,
      "align_items": null,
      "align_self": null,
      "border": null,
      "bottom": null,
      "display": null,
      "flex": null,
      "flex_flow": null,
      "grid_area": null,
      "grid_auto_columns": null,
      "grid_auto_flow": null,
      "grid_auto_rows": null,
      "grid_column": null,
      "grid_gap": null,
      "grid_row": null,
      "grid_template_areas": null,
      "grid_template_columns": null,
      "grid_template_rows": null,
      "height": null,
      "justify_content": null,
      "justify_items": null,
      "left": null,
      "margin": null,
      "max_height": null,
      "max_width": null,
      "min_height": null,
      "min_width": null,
      "object_fit": null,
      "object_position": null,
      "order": null,
      "overflow": null,
      "overflow_x": null,
      "overflow_y": null,
      "padding": null,
      "right": null,
      "top": null,
      "visibility": null,
      "width": null
     }
    },
    "f27f4394b8f542f99259f57a820ae58e": {
     "model_module": "@jupyter-widgets/controls",
     "model_module_version": "1.5.0",
     "model_name": "HBoxModel",
     "state": {
      "_dom_classes": [],
      "_model_module": "@jupyter-widgets/controls",
      "_model_module_version": "1.5.0",
      "_model_name": "HBoxModel",
      "_view_count": null,
      "_view_module": "@jupyter-widgets/controls",
      "_view_module_version": "1.5.0",
      "_view_name": "HBoxView",
      "box_style": "",
      "children": [
       "IPY_MODEL_128cecd041aa4d57aeb6fe99e9ddf6af",
       "IPY_MODEL_91873837f0314d06a28a1ee100e40333",
       "IPY_MODEL_2eb81309003946d3abee30db43e905b1"
      ],
      "layout": "IPY_MODEL_5774d85357eb48b3a9bdf25fd543e197"
     }
    },
    "f39feedba6f94b5c95a98459d698ffa6": {
     "model_module": "@jupyter-widgets/base",
     "model_module_version": "1.2.0",
     "model_name": "LayoutModel",
     "state": {
      "_model_module": "@jupyter-widgets/base",
      "_model_module_version": "1.2.0",
      "_model_name": "LayoutModel",
      "_view_count": null,
      "_view_module": "@jupyter-widgets/base",
      "_view_module_version": "1.2.0",
      "_view_name": "LayoutView",
      "align_content": null,
      "align_items": null,
      "align_self": null,
      "border": null,
      "bottom": null,
      "display": null,
      "flex": null,
      "flex_flow": null,
      "grid_area": null,
      "grid_auto_columns": null,
      "grid_auto_flow": null,
      "grid_auto_rows": null,
      "grid_column": null,
      "grid_gap": null,
      "grid_row": null,
      "grid_template_areas": null,
      "grid_template_columns": null,
      "grid_template_rows": null,
      "height": null,
      "justify_content": null,
      "justify_items": null,
      "left": null,
      "margin": null,
      "max_height": null,
      "max_width": null,
      "min_height": null,
      "min_width": null,
      "object_fit": null,
      "object_position": null,
      "order": null,
      "overflow": null,
      "overflow_x": null,
      "overflow_y": null,
      "padding": null,
      "right": null,
      "top": null,
      "visibility": null,
      "width": null
     }
    }
   }
  }
 },
 "nbformat": 4,
 "nbformat_minor": 4
}
